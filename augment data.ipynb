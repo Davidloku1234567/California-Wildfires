{
 "cells": [
  {
   "cell_type": "code",
   "execution_count": 5,
   "metadata": {},
   "outputs": [],
   "source": [
    "import h5py\n",
    "import numpy as np\n",
    "import matplotlib.pyplot as plt\n",
    "import pandas as pd\n",
    "from PIL import Image\n",
    "import cv2\n",
    "import csv\n",
    "import ast\n"
   ]
  },
  {
   "cell_type": "code",
   "execution_count": 9,
   "metadata": {},
   "outputs": [],
   "source": [
    "DATASET_PATH = r'uci_ml_hackathon_fire_dataset_2012-05-09_2013-01-01_10k_train.hdf5'\n",
    "\n",
    "with h5py.File(DATASET_PATH, 'r') as f:\n",
    "    train_data = {}\n",
    "    for k in list(f):\n",
    "        train_data[k] = f[k][:]"
   ]
  },
  {
   "cell_type": "code",
   "execution_count": 3,
   "metadata": {},
   "outputs": [
    {
     "name": "stdout",
     "output_type": "stream",
     "text": [
      "C:\\Users\\romit\\Desktop\\mlproject\\hackathon\\aug_data\n"
     ]
    }
   ],
   "source": [
    "cd aug_data/"
   ]
  },
  {
   "cell_type": "markdown",
   "metadata": {},
   "source": [
    "#Running the following shell will create 6 csv files of length 300000. There are 3 number of transformation. 90,180,270 and for rach rotation we have stroed the all the other features"
   ]
  },
  {
   "cell_type": "code",
   "execution_count": 42,
   "metadata": {},
   "outputs": [],
   "source": [
    "def writeToFile(lis,feature):\n",
    "    with open(feature, \"wb\") as f:\n",
    "        writer = csv.writer(f)\n",
    "        for val in lis:\n",
    "            if(type(val)==list):\n",
    "                writer.writerows(\",\".join(val))\n",
    "            else:\n",
    "                x = []\n",
    "                x.append(val)\n",
    "                writer.writerows(zip(x))\n",
    "def transformImage(image,transform):\n",
    "    if transform ==0:\n",
    "        rotatedMatrix = image\n",
    "    elif (transform<5 and transform>0):\n",
    "        rotatedMatrix = np.rot90(image)\n",
    "\n",
    "    elif (transform==5):\n",
    "        rotatedMatrix = np.flip(image,0)\n",
    "        \n",
    "    else:\n",
    "        rotatedMatrix = np.flip(image,1)\n",
    "    return rotatedMatrix\n",
    "datetime=[]\n",
    "lat=[]\n",
    "longit=[]\n",
    "landCover=[]\n",
    "observed=[]\n",
    "target=[]\n",
    "met0=[]\n",
    "met1=[]\n",
    "\n",
    "noOfTransformation = 3\n",
    "\n",
    "for index in range(10000):\n",
    "    targetIter= []\n",
    "    landIter = []\n",
    "    observedIter = []\n",
    "\n",
    "    met0Iter = []\n",
    "    met1Iter = []\n",
    "\n",
    "    for transform in range(noOfTransformation):\n",
    "        datetime.append(train_data['datetime'][index])\n",
    "        lat.append(train_data['latitude'][index])\n",
    "        longit.append(train_data['longitude'][index])\n",
    "        tempLandIter = []\n",
    "        tempObservedIter = []\n",
    "        tempTargetIter= []\n",
    "        tempMet0Iter = []\n",
    "        tempMet1Iter = []\n",
    "        for i in range(17):\n",
    "#             landCover.append(train_data['land_cover'][index][i])\n",
    "#             train_data['land_cover'][index][i] = transformImage(train_data['land_cover'][index][i], transform)\n",
    "            \n",
    "            if transform==0:\n",
    "                landCover.append(train_data['land_cover'][index][i].flatten())\n",
    "                \n",
    "                landIter.append(train_data['land_cover'][index][i])\n",
    "            else:\n",
    "                transformedImage = transformImage(landIter[i],transform)\n",
    "#                 print(transformedImage.flatten())\n",
    "                tempLandIter.append(transformedImage)\n",
    "                landCover.append(transformedImage.flatten())\n",
    "\n",
    "        if transform>0:\n",
    "            landIter = tempLandIter        \n",
    "# #############################################################        \n",
    "        for i in range(5):\n",
    "            if transform==0:\n",
    "#                 print(\"hi\")\n",
    "                observed.append(train_data['observed'][index][i].flatten())\n",
    "                observedIter.append(train_data['observed'][index][i])\n",
    "            else:\n",
    "                transformedImage = transformImage(observedIter[i],transform)\n",
    "                tempObservedIter.append(transformedImage)\n",
    "                observed.append(transformedImage.flatten())\n",
    "\n",
    "        if transform>0:\n",
    "            observedIter = tempObservedIter \n",
    "        \n",
    "# ##########################################################\n",
    "        for i in range(2):\n",
    "            if transform==0:\n",
    "                target.append(train_data['target'][index][i].flatten())\n",
    "                targetIter.append(train_data['target'][index][i])\n",
    "            else:\n",
    "                transformedImage = transformImage(targetIter[i],transform)\n",
    "                tempTargetIter.append(transformedImage)\n",
    "                target.append(transformedImage.flatten())\n",
    "\n",
    "        if transform>0:\n",
    "            targetIter = tempTargetIter\n",
    "\n",
    "# ###############################################################################\n",
    "        for i in range(5):\n",
    "            if transform==0:\n",
    "                met0.append(train_data['meteorology'][index][0][i].flatten())\n",
    "                met0Iter.append(train_data['meteorology'][index][0][i])\n",
    "            else:\n",
    "                transformedImage = transformImage(met0Iter[i],transform)\n",
    "                tempMet0Iter.append(transformedImage)\n",
    "                met0.append(transformedImage.flatten())\n",
    "\n",
    "        if transform>0:\n",
    "            met0Iter = tempMet0Iter\n",
    "# ######################################################################\n",
    "        for i in range(5):\n",
    "            if transform==0:\n",
    "                met1.append(train_data['meteorology'][index][1][i].flatten())\n",
    "                met1Iter.append(train_data['meteorology'][index][1][i])\n",
    "            else:\n",
    "                transformedImage = transformImage(met1Iter[i],transform)\n",
    "                tempMet1Iter.append(transformedImage)\n",
    "                met1.append(transformedImage.flatten())\n",
    "\n",
    "        if transform>0:\n",
    "            met1Iter = tempMet1Iter\n",
    "            met1.append(train_data['meteorology'][index][1][i].flatten())\n",
    "\n",
    "\n",
    "writeToFile(datetime, 'datetime.csv')\n",
    "writeToFile(lat, 'lat.csv')\n",
    "writeToFile(longit, 'longit.csv')\n",
    "writeToFile(met0, 'met0.csv')\n",
    "writeToFile(met1, 'met1.csv')\n",
    "writeToFile(landCover, 'landCover.csv')\n",
    "writeToFile(observed, 'observed.csv')\n",
    "writeToFile(target, 'target.csv')\n",
    "\n"
   ]
  },
  {
   "cell_type": "code",
   "execution_count": null,
   "metadata": {},
   "outputs": [],
   "source": [
    "# Now the following is the reader for each and every csv the data is stored in exact same way as the origional data"
   ]
  },
  {
   "cell_type": "code",
   "execution_count": 6,
   "metadata": {},
   "outputs": [],
   "source": [
    "data = {}\n",
    "data['datetime']=[]\n",
    "with open('datetime.csv') as csvfile:\n",
    "    spamreader = csv.reader(csvfile, delimiter=' ')\n",
    "    fin = []\n",
    "\n",
    "    for row in spamreader:\n",
    "        data['datetime'].append(int(row[0]))\n",
    "\n",
    "\n",
    "\n"
   ]
  },
  {
   "cell_type": "code",
   "execution_count": 13,
   "metadata": {},
   "outputs": [],
   "source": [
    "data['longitude']=[]\n",
    "with open('longit.csv') as csvfile:\n",
    "    spamreader = csv.reader(csvfile, delimiter=' ')\n",
    "\n",
    "    for row in spamreader:\n",
    "        data['longitude'].append(float(row[0]))"
   ]
  },
  {
   "cell_type": "code",
   "execution_count": 14,
   "metadata": {},
   "outputs": [],
   "source": [
    "data['latitude']=[]\n",
    "with open('lat.csv') as csvfile:\n",
    "    spamreader = csv.reader(csvfile, delimiter=' ')\n",
    "\n",
    "    for row in spamreader:\n",
    "        data['latitude'].append(float(row[0]))"
   ]
  },
  {
   "cell_type": "code",
   "execution_count": 15,
   "metadata": {},
   "outputs": [
    {
     "name": "stdout",
     "output_type": "stream",
     "text": [
      "30000\n"
     ]
    }
   ],
   "source": [
    "print(len(data['longitude']))"
   ]
  },
  {
   "cell_type": "code",
   "execution_count": 16,
   "metadata": {},
   "outputs": [],
   "source": [
    "\n",
    "data['target']=[[],[]]\n",
    "with open('target.csv') as csvfile:\n",
    "    spamreader = csv.reader(csvfile)\n",
    "    fin = []\n",
    "    i=0\n",
    "    for row in spamreader:\n",
    "        student = (row[0].strip())\n",
    "#         print type(student)\n",
    "        if i%2==0:\n",
    "            data['target'][0].append(student)\n",
    "        else:\n",
    "            data['target'][1].append(student)\n",
    "        i+=1\n",
    "#         print(i)\n",
    "\n",
    "\n"
   ]
  },
  {
   "cell_type": "code",
   "execution_count": 43,
   "metadata": {},
   "outputs": [],
   "source": [
    "data['observed'] = [[],[],[],[],[],[]]\n",
    "with open('observed.csv') as csvfile:\n",
    "    spamreader = csv.reader(csvfile)\n",
    "    fin = []\n",
    "    i=0\n",
    "    for row in spamreader:\n",
    "        student = row[0].strip()\n",
    "#         print type(student)\n",
    "        if i%5==0:\n",
    "            data['observed'][0].append(student)\n",
    "        elif i%5==1:\n",
    "            data['observed'][1].append(student)\n",
    "        elif i%5==2:\n",
    "            data['observed'][2].append(student)\n",
    "        elif i%5==3:\n",
    "            data['observed'][3].append(student)\n",
    "        else:\n",
    "            data['observed'][4].append(student)\n",
    "        i+=1"
   ]
  },
  {
   "cell_type": "code",
   "execution_count": 18,
   "metadata": {},
   "outputs": [],
   "source": [
    "data['landCover'] = [[],[],[],[],[],[],[],[],[],[],[],[],[],[],[],[],[]]\n",
    "with open('landCover.csv') as csvfile:\n",
    "    spamreader = csv.reader(csvfile)\n",
    "    fin = []\n",
    "    i=0\n",
    "    for row in spamreader:\n",
    "        student = row[0].strip()\n",
    "#         print type(student)\n",
    "        if i%17==0:\n",
    "            data['landCover'][0].append(student)\n",
    "        elif i%17==1:\n",
    "            data['landCover'][1].append(student)\n",
    "        elif i%17==2:\n",
    "            data['landCover'][2].append(student)\n",
    "        elif i%17==3:\n",
    "            data['landCover'][3].append(student)\n",
    "        elif i%17==4:\n",
    "            data['landCover'][4].append(student)\n",
    "        elif i%17==5:\n",
    "            data['landCover'][5].append(student)\n",
    "        elif i%17==6:\n",
    "            data['landCover'][6].append(student)\n",
    "        elif i%17==7:\n",
    "            data['landCover'][7].append(student)\n",
    "        elif i%17==8:\n",
    "            data['landCover'][8].append(student)\n",
    "        elif i%17==9:\n",
    "            data['landCover'][9].append(student)\n",
    "        elif i%17==10:\n",
    "            data['landCover'][10].append(student)\n",
    "        elif i%17==11:\n",
    "            data['landCover'][11].append(student)\n",
    "        elif i%17==12:\n",
    "            data['landCover'][12].append(student)\n",
    "        elif i%17==13:\n",
    "            data['landCover'][13].append(student)\n",
    "        elif i%17==14:\n",
    "            data['landCover'][14].append(student)\n",
    "        elif i%17==15:\n",
    "            data['landCover'][15].append(student)\n",
    "        else:\n",
    "            data['landCover'][16].append(student)\n",
    "        i+=1"
   ]
  },
  {
   "cell_type": "code",
   "execution_count": 44,
   "metadata": {},
   "outputs": [
    {
     "name": "stdout",
     "output_type": "stream",
     "text": [
      "['target', 'longitude', 'datetime', 'observed', 'latitude', 'landCover']\n"
     ]
    }
   ],
   "source": []
  },
  {
   "cell_type": "code",
   "execution_count": 15,
   "metadata": {},
   "outputs": [],
   "source": [
    "data['meteorology']=[[[],[],[],[],[],[]],[[],[],[],[],[],[]]]\n",
    "with open('met0.csv') as csvfile:\n",
    "    spamreader = csv.reader(csvfile, delimiter=' ')\n",
    "    student = row[0].strip()\n",
    "    i=0\n",
    "    for row in spamreader:\n",
    "        if i%5==0:\n",
    "            data['meteorology'][0][0].append(student)\n",
    "        elif i%5==1:\n",
    "            data['meteorology'][0][1].append(student)\n",
    "        elif i%5==2:\n",
    "            data['meteorology'][0][2].append(student)\n",
    "        elif i%5==3:\n",
    "            data['meteorology'][0][3].append(student)\n",
    "        else:\n",
    "            data['meteorology'][0][4].append(student)\n",
    "        i+=1\n",
    "        "
   ]
  },
  {
   "cell_type": "code",
   "execution_count": 22,
   "metadata": {},
   "outputs": [
    {
     "name": "stdout",
     "output_type": "stream",
     "text": [
      "0\n"
     ]
    }
   ],
   "source": []
  },
  {
   "cell_type": "code",
   "execution_count": null,
   "metadata": {},
   "outputs": [],
   "source": []
  }
 ],
 "metadata": {
  "kernelspec": {
   "display_name": "Python 2",
   "language": "python",
   "name": "python2"
  },
  "language_info": {
   "codemirror_mode": {
    "name": "ipython",
    "version": 2
   },
   "file_extension": ".py",
   "mimetype": "text/x-python",
   "name": "python",
   "nbconvert_exporter": "python",
   "pygments_lexer": "ipython2",
   "version": "2.7.17"
  }
 },
 "nbformat": 4,
 "nbformat_minor": 2
}
