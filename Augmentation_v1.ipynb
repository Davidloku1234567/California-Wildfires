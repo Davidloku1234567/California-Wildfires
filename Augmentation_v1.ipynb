{
 "cells": [
  {
   "cell_type": "code",
   "execution_count": 4,
   "metadata": {
    "ExecuteTime": {
     "end_time": "2020-05-20T05:31:55.915867Z",
     "start_time": "2020-05-20T05:31:55.911882Z"
    }
   },
   "outputs": [],
   "source": [
    "import os"
   ]
  },
  {
   "cell_type": "code",
   "execution_count": 5,
   "metadata": {
    "ExecuteTime": {
     "end_time": "2020-05-20T05:31:56.490647Z",
     "start_time": "2020-05-20T05:31:56.486623Z"
    }
   },
   "outputs": [],
   "source": [
    "if not os.path.exists('data/aug_data_0/'):\n",
    "    os.makedirs('data/aug_data_0')"
   ]
  },
  {
   "cell_type": "code",
   "execution_count": 6,
   "metadata": {
    "ExecuteTime": {
     "end_time": "2020-05-20T05:31:58.041682Z",
     "start_time": "2020-05-20T05:31:57.243130Z"
    }
   },
   "outputs": [],
   "source": [
    "import h5py\n",
    "import numpy as np\n",
    "import matplotlib.pyplot as plt\n",
    "import pandas as pd\n",
    "from PIL import Image\n",
    "import cv2\n",
    "import csv\n",
    "import ast\n",
    "import random"
   ]
  },
  {
   "cell_type": "code",
   "execution_count": 7,
   "metadata": {
    "ExecuteTime": {
     "end_time": "2020-05-20T05:32:05.411015Z",
     "start_time": "2020-05-20T05:32:05.408066Z"
    }
   },
   "outputs": [],
   "source": [
    "DATASET_PATH = 'data/uci_ml_hackathon_fire_dataset_2012-05-09_2013-01-01_10k_train.hdf5'"
   ]
  },
  {
   "cell_type": "code",
   "execution_count": 8,
   "metadata": {
    "ExecuteTime": {
     "end_time": "2020-05-20T05:32:08.188008Z",
     "start_time": "2020-05-20T05:32:05.807730Z"
    }
   },
   "outputs": [],
   "source": [
    "with h5py.File(DATASET_PATH, 'r') as f:\n",
    "    train_data = {}\n",
    "    for k in list(f):\n",
    "        temp = f[k][:]\n",
    "        temp[np.isnan(temp)]=-1\n",
    "        train_data[k] = temp"
   ]
  },
  {
   "cell_type": "code",
   "execution_count": 10,
   "metadata": {
    "ExecuteTime": {
     "end_time": "2020-05-20T05:46:33.571870Z",
     "start_time": "2020-05-20T05:32:42.285282Z"
    }
   },
   "outputs": [
    {
     "name": "stdout",
     "output_type": "stream",
     "text": [
      "Reached buffer size for index:250\n",
      "Reached buffer size for index:500\n",
      "Reached buffer size for index:750\n",
      "Reached buffer size for index:1000\n",
      "Reached buffer size for index:1250\n",
      "Reached buffer size for index:1500\n",
      "Reached buffer size for index:1750\n",
      "Reached buffer size for index:2000\n",
      "Reached buffer size for index:2250\n",
      "Reached buffer size for index:2500\n",
      "Reached buffer size for index:2750\n",
      "Reached buffer size for index:3000\n",
      "Reached buffer size for index:3250\n",
      "Reached buffer size for index:3500\n",
      "Reached buffer size for index:3750\n",
      "Reached buffer size for index:4000\n",
      "Reached buffer size for index:4250\n",
      "Reached buffer size for index:4500\n",
      "Reached buffer size for index:4750\n",
      "Reached buffer size for index:5000\n",
      "Reached buffer size for index:5250\n",
      "Reached buffer size for index:5500\n",
      "Reached buffer size for index:5750\n",
      "Reached buffer size for index:6000\n",
      "Reached buffer size for index:6250\n",
      "Reached buffer size for index:6500\n",
      "Reached buffer size for index:6750\n",
      "Reached buffer size for index:7000\n",
      "Reached buffer size for index:7250\n",
      "Reached buffer size for index:7500\n",
      "Reached buffer size for index:7750\n",
      "Reached buffer size for index:8000\n",
      "Reached buffer size for index:8250\n",
      "Reached buffer size for index:8500\n",
      "Reached buffer size for index:8750\n",
      "Reached buffer size for index:9000\n",
      "Reached buffer size for index:9250\n",
      "Reached buffer size for index:9500\n",
      "Reached buffer size for index:9750\n"
     ]
    }
   ],
   "source": [
    "path ='data/aug_data_0/'\n",
    "\n",
    "def writeToFile(lis,feature):\n",
    "    f = open(path+feature,'ab')\n",
    "    np.savetxt(f, lis, delimiter=',')\n",
    "    f.close()\n",
    "\n",
    "def transformImage(image,transform):\n",
    "    if transform ==0:\n",
    "        rotatedMatrix = image\n",
    "    elif (transform<5 and transform>0):\n",
    "        rotatedMatrix = np.rot90(image)\n",
    "\n",
    "    elif (transform==5):\n",
    "        rotatedMatrix = np.flip(image,0)\n",
    "        \n",
    "    else:\n",
    "        rotatedMatrix = np.flip(image,1)\n",
    "    return rotatedMatrix\n",
    "\n",
    "bufferSize =1000\n",
    "datetime=[]\n",
    "lat=[]\n",
    "longit=[]\n",
    "landCover=[]\n",
    "observed=[]\n",
    "target=[]\n",
    "met0=[]\n",
    "met1=[]\n",
    "\n",
    "noOfTransformation = 4\n",
    "\n",
    "for index in range(10000):\n",
    "\n",
    "    if(len(datetime)==bufferSize):\n",
    "        print(\"Reached buffer size for index:\"+ str(index))\n",
    "        writeToFile(datetime, 'datetime.csv')\n",
    "        writeToFile(lat, 'lat.csv')\n",
    "        writeToFile(longit, 'longit.csv')\n",
    "        writeToFile(met0, 'met0.csv')\n",
    "        writeToFile(met1, 'met1.csv')\n",
    "        writeToFile(landCover, 'landCover.csv')\n",
    "        writeToFile(observed, 'observed.csv')\n",
    "        writeToFile(target, 'target.csv')\n",
    "        datetime=[]\n",
    "        lat=[]\n",
    "        longit=[]\n",
    "        landCover=[]\n",
    "        observed=[]\n",
    "        target=[]\n",
    "        met0=[]\n",
    "        met1=[]    \n",
    "        \n",
    "    targetIter= []\n",
    "    landIter = []\n",
    "    observedIter = []\n",
    "    met0Iter = []\n",
    "    met1Iter = []\n",
    "\n",
    "    for transform in range(noOfTransformation):\n",
    "        datetime.append(train_data['datetime'][index])\n",
    "        lat.append(train_data['latitude'][index])\n",
    "        longit.append(train_data['longitude'][index])\n",
    "        tempLandIter = []\n",
    "        tempObservedIter = []\n",
    "        tempTargetIter= []\n",
    "        tempMet0Iter = []\n",
    "        tempMet1Iter = []\n",
    "        for i in range(17):\n",
    "            if transform==0:\n",
    "                landCover.append(train_data['land_cover'][index][i].flatten())                \n",
    "                landIter.append(train_data['land_cover'][index][i])\n",
    "            else:\n",
    "                transformedImage = transformImage(landIter[i],transform)\n",
    "                tempLandIter.append(transformedImage)\n",
    "                landCover.append(transformedImage.flatten())\n",
    "\n",
    "        if transform>0:\n",
    "            landIter = tempLandIter            \n",
    "        for i in range(5):\n",
    "            if transform==0:\n",
    "                observed.append(train_data['observed'][index][i].flatten())\n",
    "                observedIter.append(train_data['observed'][index][i])\n",
    "            else:\n",
    "                transformedImage = transformImage(observedIter[i],transform)\n",
    "                tempObservedIter.append(transformedImage)\n",
    "                observed.append(transformedImage.flatten())\n",
    "\n",
    "        if transform>0:\n",
    "            observedIter = tempObservedIter \n",
    "        \n",
    "# ##########################################################\n",
    "        for i in range(2):\n",
    "            if transform==0:\n",
    "                target.append(train_data['target'][index][i].flatten())\n",
    "                targetIter.append(train_data['target'][index][i])\n",
    "            else:\n",
    "                transformedImage = transformImage(targetIter[i],transform)\n",
    "                tempTargetIter.append(transformedImage)\n",
    "                target.append(transformedImage.flatten())\n",
    "\n",
    "        if transform>0:\n",
    "            targetIter = tempTargetIter\n",
    "\n",
    "# ###############################################################################\n",
    "        for i in range(5):\n",
    "            if transform==0:\n",
    "                met0.append(train_data['meteorology'][index][0][i].flatten())\n",
    "                met0Iter.append(train_data['meteorology'][index][0][i])\n",
    "            else:\n",
    "                transformedImage = transformImage(met0Iter[i],transform)\n",
    "                tempMet0Iter.append(transformedImage)\n",
    "                met0.append(transformedImage.flatten())\n",
    "        if transform>0:\n",
    "            met0Iter = tempMet0Iter\n",
    "        for i in range(5):\n",
    "            if transform==0:\n",
    "                met1.append(train_data['meteorology'][index][1][i].flatten())\n",
    "                met1Iter.append(train_data['meteorology'][index][1][i])\n",
    "            else:\n",
    "                transformedImage = transformImage(met1Iter[i],transform)\n",
    "                tempMet1Iter.append(transformedImage)\n",
    "                met1.append(transformedImage.flatten())\n",
    "        if transform>0:\n",
    "            met1Iter = tempMet1Iter\n",
    "            met1.append(train_data['meteorology'][index][1][i].flatten())\n",
    "\n",
    "\n",
    "writeToFile(datetime, 'datetime.csv')\n",
    "writeToFile(lat, 'lat.csv')\n",
    "writeToFile(longit, 'longit.csv')\n",
    "writeToFile(met0, 'met0.csv')\n",
    "writeToFile(met1, 'met1.csv')\n",
    "writeToFile(landCover, 'landCover.csv')\n",
    "writeToFile(observed, 'observed.csv')\n",
    "writeToFile(target, 'target.csv')\n",
    "\n"
   ]
  },
  {
   "cell_type": "code",
   "execution_count": null,
   "metadata": {},
   "outputs": [],
   "source": []
  }
 ],
 "metadata": {
  "kernelspec": {
   "display_name": "Python 3",
   "language": "python",
   "name": "python3"
  },
  "language_info": {
   "codemirror_mode": {
    "name": "ipython",
    "version": 3
   },
   "file_extension": ".py",
   "mimetype": "text/x-python",
   "name": "python",
   "nbconvert_exporter": "python",
   "pygments_lexer": "ipython3",
   "version": "3.7.3"
  },
  "varInspector": {
   "cols": {
    "lenName": 16,
    "lenType": 16,
    "lenVar": 40
   },
   "kernels_config": {
    "python": {
     "delete_cmd_postfix": "",
     "delete_cmd_prefix": "del ",
     "library": "var_list.py",
     "varRefreshCmd": "print(var_dic_list())"
    },
    "r": {
     "delete_cmd_postfix": ") ",
     "delete_cmd_prefix": "rm(",
     "library": "var_list.r",
     "varRefreshCmd": "cat(var_dic_list()) "
    }
   },
   "types_to_exclude": [
    "module",
    "function",
    "builtin_function_or_method",
    "instance",
    "_Feature"
   ],
   "window_display": false
  }
 },
 "nbformat": 4,
 "nbformat_minor": 4
}
