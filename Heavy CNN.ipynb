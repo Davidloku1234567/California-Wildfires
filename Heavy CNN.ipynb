{
 "cells": [
  {
   "cell_type": "code",
   "execution_count": 1,
   "metadata": {
    "ExecuteTime": {
     "end_time": "2020-05-24T19:34:55.119001Z",
     "start_time": "2020-05-24T19:34:55.103044Z"
    }
   },
   "outputs": [
    {
     "data": {
      "text/html": [
       "<style>.container { width:100% !important; }</style>"
      ],
      "text/plain": [
       "<IPython.core.display.HTML object>"
      ]
     },
     "metadata": {},
     "output_type": "display_data"
    }
   ],
   "source": [
    "from IPython.core.display import display, HTML\n",
    "display(HTML(\"<style>.container { width:100% !important; }</style>\"))"
   ]
  },
  {
   "cell_type": "code",
   "execution_count": 2,
   "metadata": {
    "ExecuteTime": {
     "end_time": "2020-05-24T19:35:02.645314Z",
     "start_time": "2020-05-24T19:34:55.121992Z"
    }
   },
   "outputs": [
    {
     "name": "stderr",
     "output_type": "stream",
     "text": [
      "Using TensorFlow backend.\n"
     ]
    }
   ],
   "source": [
    "import h5py\n",
    "import numpy as np\n",
    "from sklearn.model_selection import train_test_split\n",
    "from keras.models import Sequential\n",
    "from keras.layers import Dense\n",
    "from keras.layers import Flatten, Dropout\n",
    "from keras.layers import concatenate\n",
    "from keras.layers.convolutional import Conv2D\n",
    "from keras.optimizers import adadelta,RMSprop,SGD,Adam\n",
    "from keras.layers.convolutional import MaxPooling2D, AveragePooling2D\n",
    "import tensorflow as tf\n",
    "import pandas as pd\n",
    "import numpy as np\n",
    "from sklearn.preprocessing import MinMaxScaler\n",
    "from sklearn.preprocessing import StandardScaler\n",
    "import pandas as pd\n",
    "from scipy.stats import norm"
   ]
  },
  {
   "cell_type": "code",
   "execution_count": 3,
   "metadata": {
    "ExecuteTime": {
     "end_time": "2020-05-24T19:35:23.772497Z",
     "start_time": "2020-05-24T19:35:02.649304Z"
    }
   },
   "outputs": [
    {
     "name": "stdout",
     "output_type": "stream",
     "text": [
      "dict_keys(['datetime', 'land_cover', 'latitude', 'longitude', 'meteorology', 'observed', 'target'])\n"
     ]
    }
   ],
   "source": [
    "def sigmoid(x):\n",
    "    return 1 / (1 + np.exp(-x))\n",
    "\n",
    "TRAIN_DATASET_PATH = 'data/uci_ml_hackathon_fire_dataset_2012-05-09_2013-01-01_10k_train.hdf5'\n",
    "TEST_DATASET_PATH = 'data/uci_ml_hackathon_fire_dataset_2013-01-01_2014-01-01_5k_test.hdf5'\n",
    "\n",
    "def getDataDict(DatasetPath):\n",
    "    with h5py.File(DatasetPath, 'r') as f:\n",
    "        data = {}\n",
    "        for k in list(f):\n",
    "            data[k] = f[k][:]\n",
    "        return data\n",
    "\n",
    "train_data = getDataDict(TRAIN_DATASET_PATH)\n",
    "test_data = getDataDict(TEST_DATASET_PATH)\n",
    "\n",
    "print(train_data.keys())\n",
    "\n",
    "def transformDateTime(datetime):\n",
    "    ret = np.asarray(([(pd.to_datetime(x).hour-12)/24 * np.ones((1,30, 30)) for x in datetime]))\n",
    "    return ret\n",
    "\n",
    "\n",
    "def transformLandCover(landCover):\n",
    "    nanConvert = {\n",
    "        0: 0,\n",
    "        1: 0,\n",
    "        2: 9,\n",
    "        3: 0,\n",
    "        4: 235,\n",
    "        5: 0,\n",
    "        6: 0,\n",
    "        16:0\n",
    "    }\n",
    "    ret=[]\n",
    "    \n",
    "    for datapoint in landCover:\n",
    "        for i in range(17):\n",
    "            if i in nanConvert.keys():\n",
    "                datapoint[i][np.isnan(datapoint[i])]= nanConvert[i] \n",
    "            if(i==0):\n",
    "                datapoint[i]/=14.0\n",
    "            if(i==2):\n",
    "                datapoint[i]= 1- (datapoint[i]-9)/30.0\n",
    "            if(i==3):\n",
    "              datapoint[i]= 1- (datapoint[i]-32)/70.0\n",
    "            if(i==4):\n",
    "              datapoint[i]= 1- (datapoint[i]-235)/340.0\n",
    "            if(i==5):\n",
    "              datapoint[i] = norm(1250,564).pdf(datapoint[i])\n",
    "        ret.append(datapoint)\n",
    "    return np.asarray(ret)\n",
    "\n",
    "\n",
    "def transformLatAndLong(val):\n",
    "    ret = np.asarray([x * np.ones((1,30, 30)) for x in val])\n",
    "    return ret\n",
    "\n",
    "#TODO : define temperature according to datetime average\n",
    "def transformMet(met,date):\n",
    "    nanConvert = {\n",
    "        1: 26,\n",
    "        2: 0,\n",
    "        3: 0,\n",
    "        4: 0,\n",
    "    }\n",
    "    met0=[]\n",
    "    met1=[]\n",
    "    index = 0\n",
    "    for datapoint in met:\n",
    "        for i in range(5):\n",
    "            if(i==0):\n",
    "                if pd.to_datetime(date[index]).hour > 12:\n",
    "                    datapoint[1][i][np.isnan(datapoint[1][i])] = 290\n",
    "                    datapoint[0][i][np.isnan(datapoint[0][i])] = 301.91\n",
    "                    datapoint[0][i]= np.tanh(datapoint[0][i]- 301.91)\n",
    "                    datapoint[1][i]= np.tanh(datapoint[1][i]- 290)\n",
    "                else:\n",
    "                    datapoint[1][i][np.isnan(datapoint[1][i])] = 302.54\n",
    "                    datapoint[0][i][np.isnan(datapoint[0][i])] = 287.56\n",
    "                    datapoint[0][i]= np.tanh(datapoint[0][i]- 287.56)\n",
    "                    datapoint[1][i]= np.tanh(datapoint[1][i]- 302.54)\n",
    "            else:\n",
    "                datapoint[0][i][np.isnan(datapoint[0][i])]= nanConvert[i] \n",
    "                datapoint[1][i][np.isnan(datapoint[1][i])]= nanConvert[i]\n",
    "            if(i==1):\n",
    "                datapoint[0][i]= 1- sigmoid(datapoint[0][i]-26)\n",
    "                datapoint[1][i]= 1- sigmoid(datapoint[1][i]-26)\n",
    "            if(i==2):\n",
    "                datapoint[0][i]= np.tanh(datapoint[0][i]- 0.4232)\n",
    "                datapoint[1][i]= np.tanh(datapoint[1][i]- 1.4365)\n",
    "            if(i==3):\n",
    "                datapoint[0][i]= np.tanh(datapoint[0][i]+0.0854)\n",
    "                datapoint[1][i]= np.tanh(datapoint[1][i]- 0.495)\n",
    "        met0.append(datapoint[0])\n",
    "        met1.append(datapoint[1])\n",
    "        index+=1\n",
    "    return np.asarray(met0),np.asarray(met1)\n",
    "\n",
    "def transformFire(fire):\n",
    "    return np.asarray(fire)\n",
    "\n",
    "#transform all of them into dict of 3d np arrays.\n",
    "#Augmentation step must take place after this.\n",
    "#Can store this in h5py file after this.\n",
    "def transformAndClean(data):\n",
    "    X = {}\n",
    "    Y= {}\n",
    "    X['datetime'] = transformDateTime(data['datetime'])\n",
    "    X['landCover'] = transformLandCover(data['land_cover'])\n",
    "    X['latitude'] = transformLatAndLong(data['latitude'])\n",
    "    X['longitude'] = transformLatAndLong(data['longitude'])\n",
    "    X['met0'], X['met1'] = transformMet(data['meteorology'],data['datetime'])\n",
    "    X['observed'] = transformFire(data['observed'])\n",
    "    Y['target'] = transformFire(data['target'])\n",
    "    return X,Y\n",
    "\n",
    "X,Y = transformAndClean(train_data)"
   ]
  },
  {
   "cell_type": "code",
   "execution_count": 4,
   "metadata": {
    "ExecuteTime": {
     "end_time": "2020-05-24T19:35:38.718147Z",
     "start_time": "2020-05-24T19:35:23.773495Z"
    }
   },
   "outputs": [],
   "source": [
    "testX,testY = transformAndClean(test_data)\n",
    "\n",
    "startDictionary={\n",
    "    'datetime':0,\n",
    "    'landCover':1,\n",
    "    'latitude':18,\n",
    "    'longitude':19,\n",
    "    'met0':20,\n",
    "    'met1':25,\n",
    "    'observed':30,\n",
    "    'target':0\n",
    "}\n",
    "\n",
    "lengthDictionary={\n",
    "    'datetime':1,\n",
    "    'landCover':17,\n",
    "    'latitude':1,\n",
    "    'longitude':1,\n",
    "    'met0':5,\n",
    "    'met1':5,\n",
    "    'observed':5,\n",
    "    'target':2\n",
    "}\n",
    "def flattenData(data):\n",
    "    length =0\n",
    "    for key,value in data.items():\n",
    "        \n",
    "        length += value.shape[1]\n",
    "        n=value.shape[0]\n",
    "    ret = np.zeros((n,length,30,30))\n",
    "    for key,arr in data.items():    \n",
    "        for index,datapoint in enumerate(arr):\n",
    "            ret[index][startDictionary[key]: startDictionary[key]+lengthDictionary[key]][:][:]=datapoint        \n",
    "    return ret;\n",
    "\n",
    "flatX = flattenData(X)\n",
    "flatY = flattenData(Y)  \n",
    "flatTestX = flattenData(testX)\n",
    "flatTestY = flattenData(testY)\n",
    "\n",
    "X=None\n",
    "Y=None\n",
    "testX=None\n",
    "testY=None"
   ]
  },
  {
   "cell_type": "code",
   "execution_count": null,
   "metadata": {
    "ExecuteTime": {
     "start_time": "2020-05-24T19:34:55.114Z"
    }
   },
   "outputs": [],
   "source": [
    "for i in range(3):\n",
    "    temp = np.rot90(flatX[-10000:,],axes=(2,3))\n",
    "    for datapoint in temp:\n",
    "        windSwap=datapoint[22]\n",
    "        datapoint[22] = datapoint[23]\n",
    "        datapoint[23]=-windSwap\n",
    "        windSwap = datapoint[27]\n",
    "        datapoint[27] = datapoint[28]\n",
    "        datapoint[28]=-windSwap\n",
    "    flatX = np.concatenate((flatX,temp),axis=0)    "
   ]
  },
  {
   "cell_type": "code",
   "execution_count": null,
   "metadata": {
    "ExecuteTime": {
     "start_time": "2020-05-24T19:34:55.118Z"
    }
   },
   "outputs": [],
   "source": [
    "trainX,validX,trainY,validY = train_test_split(flatX,flatY,test_size=0.3,random_state = 42,shuffle=True)"
   ]
  },
  {
   "cell_type": "code",
   "execution_count": null,
   "metadata": {
    "ExecuteTime": {
     "start_time": "2020-05-24T19:34:55.121Z"
    }
   },
   "outputs": [],
   "source": [
    "from keras import backend as K\n",
    "smooth = 1\n",
    "\n",
    "def iou(y_true, y_pred):\n",
    "    y_true_f = K.flatten(y_true)\n",
    "    y_pred_f = K.flatten(y_pred)\n",
    "    intersection = K.sum(tf.cast(y_true_f,np.float32) * y_pred_f)\n",
    "    return intersection / (K.sum(tf.cast(y_true_f,np.float32)) + K.sum(y_pred_f) - intersection)\n",
    "\n",
    "def iou_loss(y_true, y_pred):\n",
    "    return 1-iou(y_true, y_pred)"
   ]
  },
  {
   "cell_type": "code",
   "execution_count": null,
   "metadata": {
    "ExecuteTime": {
     "start_time": "2020-05-24T19:34:55.124Z"
    }
   },
   "outputs": [],
   "source": [
    "masterdict={\n",
    "    0:'datetime',\n",
    "    1: 'Aspect',\n",
    "    2: 'Canopy Built Density',\n",
    "    3: 'Canopy Base Height',\n",
    "    4: 'Canopy Cover',\n",
    "    5: 'Canopy Height',\n",
    "    6: 'Elevation',\n",
    "    7: 'Slope',\n",
    "    8: 'No Data',\n",
    "    9: 'Sparse',\n",
    "    10: 'Tree',\n",
    "    11: 'Shrub',\n",
    "    12: 'Herb',\n",
    "    13: 'Water',\n",
    "    14: 'Barren',\n",
    "    15: 'Developed',\n",
    "    16: 'Snow-Ice',\n",
    "    17: 'Agriculture',\n",
    "    18:'latitude',\n",
    "    19:'longitude',\n",
    "    20:'temp 0 ',\n",
    "    21:'humidity 0 ',\n",
    "    22:'uwind 0 ',\n",
    "    23:'vwind 0 ',\n",
    "    24:'prec 0 ',\n",
    "    25:'temp +12 ',\n",
    "    26:'humidity +12 ',\n",
    "    27:'uwind +12 ',\n",
    "    28:'vwind +12 ',\n",
    "    29:'prec +12 ',\n",
    "    30:'observed 0',\n",
    "    31:'observed -12',\n",
    "    32:'observed -24',\n",
    "    33:'observed -36',\n",
    "    34:'observed -48'\n",
    "}"
   ]
  },
  {
   "cell_type": "code",
   "execution_count": null,
   "metadata": {
    "ExecuteTime": {
     "start_time": "2020-05-24T19:34:55.127Z"
    }
   },
   "outputs": [],
   "source": [
    "ignitionFeatures = [6,2,3,8,9,10,11,12,13,14,15,17]\n",
    "spreadFeatures = [0,4,7,30,31,32,33,34,22,23,20,21]\n",
    "yfeatures=[0]\n",
    "\n",
    "modelTrainIgnition = np.take(trainX,ignitionFeatures,axis=1)  \n",
    "modelTrainSpread = np.take(trainX,spreadFeatures,axis=1)  \n",
    "modelTrainY = np.take(trainY,yfeatures,axis=1)  \n",
    "\n",
    "\n",
    "modelValidIgnition = np.take(validX,ignitionFeatures,axis=1)  \n",
    "modelValidSpread = np.take(validX,spreadFeatures,axis=1)  \n",
    "modelValidY = np.take(validY,yfeatures,axis=1)\n",
    "\n",
    "\n",
    "modelTestIgnition = np.take(flatTestX,ignitionFeatures,axis=1)  \n",
    "modelTestSpread = np.take(flatTestX,spreadFeatures,axis=1)  \n",
    "modelTestY = np.take(flatTestY,yfeatures,axis=1)"
   ]
  },
  {
   "cell_type": "code",
   "execution_count": null,
   "metadata": {
    "ExecuteTime": {
     "start_time": "2020-05-24T19:34:55.132Z"
    }
   },
   "outputs": [],
   "source": [
    "from keras import Input\n",
    "from keras import Model\n",
    "import keras\n",
    "from keras.layers import BatchNormalization, MaxPool2D\n",
    "\n",
    "\n",
    "\n",
    "IgnitionInput=Input(shape=(12,30,30))\n",
    "Ignition= Conv2D(filters=128, kernel_size=(3,3), padding = 'same', activation='relu', data_format='channels_first')(IgnitionInput)\n",
    "#Ignition=Dropout(0.1)(Ignition)\n",
    "Ignition=BatchNormalization()(Ignition)\n",
    "Ignition= Conv2D(filters=256, kernel_size=(1,1), padding = 'same', activation='relu',  data_format='channels_first')(Ignition)\n",
    "Ignition=Dropout(0.1)(Ignition)\n",
    "Ignition=BatchNormalization()(Ignition)\n",
    "Ignition = Conv2D(filters=1, kernel_size=(1,1), padding = 'same', activation='sigmoid', data_format='channels_first', name=\"iska_final\")(Ignition)\n",
    "ModelIgnition = Model(inputs=IgnitionInput, output = Ignition)\n",
    "\n",
    "ModelIgnitionIntermediate = ModelIgnition.get_layer(\"iska_final\").output\n",
    "\n",
    "\n",
    "SpreadInput= Input(shape=(12,30,30))\n",
    "Spread =keras.layers.concatenate([ModelIgnitionIntermediate, SpreadInput],axis=1)\n",
    "\n",
    "Spread= Conv2D(filters=128, kernel_size=(5,5), padding = 'same', activation='relu',  data_format='channels_first')(SpreadInput)\n",
    "Spread=BatchNormalization()(Spread)\n",
    "Spread= Conv2D(filters=256, kernel_size=(3,3), padding = 'same', activation='relu', data_format='channels_first')(Spread)\n",
    "Spread=Dropout(0.1)(Spread)\n",
    "Spread= Conv2D(filters=512, kernel_size=(1,1), padding = 'same', activation='relu',  data_format='channels_first')(Spread)\n",
    "Spread=Dropout(0.2)(Spread)\n",
    "Spread=BatchNormalization()(Spread)\n",
    "\n",
    "X=Conv2D(filters=1, kernel_size=(1,1), padding = 'same', activation='sigmoid', data_format='channels_first')(Spread)\n",
    "\n",
    "model = Model(inputs= [SpreadInput, IgnitionInput], outputs=[X])\n",
    "model.compile(optimizer=Adam(lr = 0.0002), loss=iou_loss, metrics = [iou])\n",
    "history = model.fit([modelTrainSpread,modelTrainIgnition], modelTrainY, batch_size= 30, epochs=50, validation_data=([ modelTestSpread,modelTestIgnition],modelTestY))"
   ]
  },
  {
   "cell_type": "code",
   "execution_count": null,
   "metadata": {
    "ExecuteTime": {
     "start_time": "2020-05-24T19:34:55.135Z"
    }
   },
   "outputs": [],
   "source": [
    "# model1 = Sequential()\n",
    "# output1 = model1.add(Conv2D(filters=128, kernel_size=(3,3), padding = 'same', activation='relu', input_shape=(7,30,30), data_format='channels_first'))\n",
    "# output1 = model1.add(Conv2D(filters=256, kernel_size=(3,3), padding = 'same', activation='relu', input_shape=(22,30,30), data_format='channels_first'))\n",
    "# output1 = model1.add(Dropout(0.1))\n",
    "# output1 = model1.add(Conv2D(filters=512, kernel_size=(3,3), padding = 'same', activation='relu', input_shape=(22,30,30), data_format='channels_first'))\n",
    "# output1 = model1.add(Dropout(0.2))\n",
    "# output1 = model1.add(Conv2D(filters=512, kernel_size=(3,3), padding = 'same', activation='relu', input_shape=(22,30,30), data_format='channels_first'))\n",
    "# output1 = model1.add(Dropout(0.2))\n",
    "# output1 = model1.add(Conv2D(filters=512, kernel_size=(3,3), padding = 'same', activation='sigmoid', input_shape=(22,30,30), data_format='channels_first'))\n",
    "# output1 = model1.add(Dropout(0.3))\n",
    "# output1 = model1.add(Conv2D(filters=1, kernel_size=(3,3), padding = 'same', activation='sigmoid', data_format='channels_first'))\n",
    "\n",
    "\n",
    "\n",
    "# model1.compile(optimizer=Adam(lr = 0.001), loss=iou_loss, metrics = [iou])\n",
    "# history = model1.fit(modelTrainX, modelTrainY, batch_size= 30, epochs=50)"
   ]
  },
  {
   "cell_type": "code",
   "execution_count": null,
   "metadata": {
    "ExecuteTime": {
     "start_time": "2020-05-24T19:34:55.139Z"
    }
   },
   "outputs": [],
   "source": [
    "def iou_1(yhat, ytest):\n",
    "    print(\"IOU_1\")\n",
    "    inter = yhat*ytest\n",
    "    union = yhat + ytest - inter\n",
    "    return np.sum(inter)/np.sum(union)\n",
    "\n",
    "\n",
    "y_pred=model.predict([modelTestSpread,modelTestIgnition])\n",
    "print(iou_1(y_pred,modelTestY))"
   ]
  },
  {
   "cell_type": "code",
   "execution_count": null,
   "metadata": {},
   "outputs": [],
   "source": []
  },
  {
   "cell_type": "code",
   "execution_count": null,
   "metadata": {},
   "outputs": [],
   "source": []
  }
 ],
 "metadata": {
  "kernelspec": {
   "display_name": "Python 3",
   "language": "python",
   "name": "python3"
  },
  "language_info": {
   "codemirror_mode": {
    "name": "ipython",
    "version": 3
   },
   "file_extension": ".py",
   "mimetype": "text/x-python",
   "name": "python",
   "nbconvert_exporter": "python",
   "pygments_lexer": "ipython3",
   "version": "3.7.3"
  },
  "varInspector": {
   "cols": {
    "lenName": 16,
    "lenType": 16,
    "lenVar": 40
   },
   "kernels_config": {
    "python": {
     "delete_cmd_postfix": "",
     "delete_cmd_prefix": "del ",
     "library": "var_list.py",
     "varRefreshCmd": "print(var_dic_list())"
    },
    "r": {
     "delete_cmd_postfix": ") ",
     "delete_cmd_prefix": "rm(",
     "library": "var_list.r",
     "varRefreshCmd": "cat(var_dic_list()) "
    }
   },
   "types_to_exclude": [
    "module",
    "function",
    "builtin_function_or_method",
    "instance",
    "_Feature"
   ],
   "window_display": false
  }
 },
 "nbformat": 4,
 "nbformat_minor": 4
}
