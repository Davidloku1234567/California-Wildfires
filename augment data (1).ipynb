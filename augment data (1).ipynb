{
 "cells": [
  {
   "cell_type": "code",
   "execution_count": 129,
   "metadata": {},
   "outputs": [],
   "source": [
    "import h5py\n",
    "import numpy as np\n",
    "import matplotlib.pyplot as plt\n",
    "import pandas as pd\n",
    "from PIL import Image\n",
    "import cv2\n",
    "import csv\n",
    "import ast\n",
    "import random\n"
   ]
  },
  {
   "cell_type": "code",
   "execution_count": 130,
   "metadata": {},
   "outputs": [
    {
     "ename": "IOError",
     "evalue": "Unable to open file (unable to open file: name = 'uci_ml_hackathon_fire_dataset_2012-05-09_2013-01-01_10k_train.hdf5', errno = 2, error message = 'No such file or directory', flags = 0, o_flags = 0)",
     "output_type": "error",
     "traceback": [
      "\u001b[1;31m---------------------------------------------------------------------------\u001b[0m",
      "\u001b[1;31mIOError\u001b[0m                                   Traceback (most recent call last)",
      "\u001b[1;32m<ipython-input-130-20397892367b>\u001b[0m in \u001b[0;36m<module>\u001b[1;34m()\u001b[0m\n\u001b[0;32m      1\u001b[0m \u001b[0mDATASET_PATH\u001b[0m \u001b[1;33m=\u001b[0m \u001b[1;34mr'uci_ml_hackathon_fire_dataset_2012-05-09_2013-01-01_10k_train.hdf5'\u001b[0m\u001b[1;33m\u001b[0m\u001b[0m\n\u001b[0;32m      2\u001b[0m \u001b[1;33m\u001b[0m\u001b[0m\n\u001b[1;32m----> 3\u001b[1;33m \u001b[1;32mwith\u001b[0m \u001b[0mh5py\u001b[0m\u001b[1;33m.\u001b[0m\u001b[0mFile\u001b[0m\u001b[1;33m(\u001b[0m\u001b[0mDATASET_PATH\u001b[0m\u001b[1;33m,\u001b[0m \u001b[1;34m'r'\u001b[0m\u001b[1;33m)\u001b[0m \u001b[1;32mas\u001b[0m \u001b[0mf\u001b[0m\u001b[1;33m:\u001b[0m\u001b[1;33m\u001b[0m\u001b[0m\n\u001b[0m\u001b[0;32m      4\u001b[0m     \u001b[0mtrain_data\u001b[0m \u001b[1;33m=\u001b[0m \u001b[1;33m{\u001b[0m\u001b[1;33m}\u001b[0m\u001b[1;33m\u001b[0m\u001b[0m\n\u001b[0;32m      5\u001b[0m     \u001b[1;32mfor\u001b[0m \u001b[0mk\u001b[0m \u001b[1;32min\u001b[0m \u001b[0mlist\u001b[0m\u001b[1;33m(\u001b[0m\u001b[0mf\u001b[0m\u001b[1;33m)\u001b[0m\u001b[1;33m:\u001b[0m\u001b[1;33m\u001b[0m\u001b[0m\n",
      "\u001b[1;32mc:\\python27\\lib\\site-packages\\h5py\\_hl\\files.pyc\u001b[0m in \u001b[0;36m__init__\u001b[1;34m(self, name, mode, driver, libver, userblock_size, swmr, rdcc_nslots, rdcc_nbytes, rdcc_w0, track_order, **kwds)\u001b[0m\n\u001b[0;32m    406\u001b[0m                 fid = make_fid(name, mode, userblock_size,\n\u001b[0;32m    407\u001b[0m                                \u001b[0mfapl\u001b[0m\u001b[1;33m,\u001b[0m \u001b[0mfcpl\u001b[0m\u001b[1;33m=\u001b[0m\u001b[0mmake_fcpl\u001b[0m\u001b[1;33m(\u001b[0m\u001b[0mtrack_order\u001b[0m\u001b[1;33m=\u001b[0m\u001b[0mtrack_order\u001b[0m\u001b[1;33m)\u001b[0m\u001b[1;33m,\u001b[0m\u001b[1;33m\u001b[0m\u001b[0m\n\u001b[1;32m--> 408\u001b[1;33m                                swmr=swmr)\n\u001b[0m\u001b[0;32m    409\u001b[0m \u001b[1;33m\u001b[0m\u001b[0m\n\u001b[0;32m    410\u001b[0m             \u001b[1;32mif\u001b[0m \u001b[0misinstance\u001b[0m\u001b[1;33m(\u001b[0m\u001b[0mlibver\u001b[0m\u001b[1;33m,\u001b[0m \u001b[0mtuple\u001b[0m\u001b[1;33m)\u001b[0m\u001b[1;33m:\u001b[0m\u001b[1;33m\u001b[0m\u001b[0m\n",
      "\u001b[1;32mc:\\python27\\lib\\site-packages\\h5py\\_hl\\files.pyc\u001b[0m in \u001b[0;36mmake_fid\u001b[1;34m(name, mode, userblock_size, fapl, fcpl, swmr)\u001b[0m\n\u001b[0;32m    171\u001b[0m         \u001b[1;32mif\u001b[0m \u001b[0mswmr\u001b[0m \u001b[1;32mand\u001b[0m \u001b[0mswmr_support\u001b[0m\u001b[1;33m:\u001b[0m\u001b[1;33m\u001b[0m\u001b[0m\n\u001b[0;32m    172\u001b[0m             \u001b[0mflags\u001b[0m \u001b[1;33m|=\u001b[0m \u001b[0mh5f\u001b[0m\u001b[1;33m.\u001b[0m\u001b[0mACC_SWMR_READ\u001b[0m\u001b[1;33m\u001b[0m\u001b[0m\n\u001b[1;32m--> 173\u001b[1;33m         \u001b[0mfid\u001b[0m \u001b[1;33m=\u001b[0m \u001b[0mh5f\u001b[0m\u001b[1;33m.\u001b[0m\u001b[0mopen\u001b[0m\u001b[1;33m(\u001b[0m\u001b[0mname\u001b[0m\u001b[1;33m,\u001b[0m \u001b[0mflags\u001b[0m\u001b[1;33m,\u001b[0m \u001b[0mfapl\u001b[0m\u001b[1;33m=\u001b[0m\u001b[0mfapl\u001b[0m\u001b[1;33m)\u001b[0m\u001b[1;33m\u001b[0m\u001b[0m\n\u001b[0m\u001b[0;32m    174\u001b[0m     \u001b[1;32melif\u001b[0m \u001b[0mmode\u001b[0m \u001b[1;33m==\u001b[0m \u001b[1;34m'r+'\u001b[0m\u001b[1;33m:\u001b[0m\u001b[1;33m\u001b[0m\u001b[0m\n\u001b[0;32m    175\u001b[0m         \u001b[0mfid\u001b[0m \u001b[1;33m=\u001b[0m \u001b[0mh5f\u001b[0m\u001b[1;33m.\u001b[0m\u001b[0mopen\u001b[0m\u001b[1;33m(\u001b[0m\u001b[0mname\u001b[0m\u001b[1;33m,\u001b[0m \u001b[0mh5f\u001b[0m\u001b[1;33m.\u001b[0m\u001b[0mACC_RDWR\u001b[0m\u001b[1;33m,\u001b[0m \u001b[0mfapl\u001b[0m\u001b[1;33m=\u001b[0m\u001b[0mfapl\u001b[0m\u001b[1;33m)\u001b[0m\u001b[1;33m\u001b[0m\u001b[0m\n",
      "\u001b[1;32mh5py\\_objects.pyx\u001b[0m in \u001b[0;36mh5py._objects.with_phil.wrapper\u001b[1;34m()\u001b[0m\n",
      "\u001b[1;32mh5py\\_objects.pyx\u001b[0m in \u001b[0;36mh5py._objects.with_phil.wrapper\u001b[1;34m()\u001b[0m\n",
      "\u001b[1;32mh5py\\h5f.pyx\u001b[0m in \u001b[0;36mh5py.h5f.open\u001b[1;34m()\u001b[0m\n",
      "\u001b[1;31mIOError\u001b[0m: Unable to open file (unable to open file: name = 'uci_ml_hackathon_fire_dataset_2012-05-09_2013-01-01_10k_train.hdf5', errno = 2, error message = 'No such file or directory', flags = 0, o_flags = 0)"
     ]
    }
   ],
   "source": [
    "DATASET_PATH = r'uci_ml_hackathon_fire_dataset_2012-05-09_2013-01-01_10k_train.hdf5'\n",
    "\n",
    "with h5py.File(DATASET_PATH, 'r') as f:\n",
    "    train_data = {}\n",
    "    for k in list(f):\n",
    "        temp = f[k][:]\n",
    "        temp[np.isnan(temp)]=-1\n",
    "        train_data[k] = temp"
   ]
  },
  {
   "cell_type": "code",
   "execution_count": 47,
   "metadata": {},
   "outputs": [
    {
     "name": "stdout",
     "output_type": "stream",
     "text": [
      "C:\\Users\\romit\\Desktop\\mlproject\\hackathon\\aug_data\n"
     ]
    }
   ],
   "source": [
    "cd aug_data"
   ]
  },
  {
   "cell_type": "code",
   "execution_count": 131,
   "metadata": {},
   "outputs": [
    {
     "name": "stdout",
     "output_type": "stream",
     "text": [
      "[-1. -1. -1. ... -1. -1. -1.]\n",
      "[-1. -1. -1. ... -1. -1. -1.]\n"
     ]
    }
   ],
   "source": [
    "print train_data[\"land_cover\"][0].flatten()\n",
    "temp = train_data[\"land_cover\"][0].flatten()\n",
    "temp[np.isnan(temp)]=-1\n",
    "print temp"
   ]
  },
  {
   "cell_type": "markdown",
   "metadata": {},
   "source": [
    "#Running the following shell will create 6 csv files of length 300000. There are 3 number of transformation. 90,180,270 and for rach rotation we have stroed the all the other features"
   ]
  },
  {
   "cell_type": "code",
   "execution_count": 132,
   "metadata": {},
   "outputs": [],
   "source": [
    "def writeToFile(lis,feature):\n",
    "    np.savetxt(feature, lis, delimiter=',')\n",
    "#     with open(feature, \"wb\") as f:\n",
    "        \n",
    "#         writer = csv.writer(f,delimiter=',')\n",
    "#         for val in lis:\n",
    "#             if(type(val)==list):\n",
    "#                 writer.writerows(\",\".join(val))\n",
    "#             else:\n",
    "#                 x = []\n",
    "#                 x.append(val)\n",
    "#                 writer.writerows(zip(x))\n",
    "def transformImage(image,transform):\n",
    "    if transform ==0:\n",
    "        rotatedMatrix = image\n",
    "    elif (transform<5 and transform>0):\n",
    "        rotatedMatrix = np.rot90(image)\n",
    "\n",
    "    elif (transform==5):\n",
    "        rotatedMatrix = np.flip(image,0)\n",
    "        \n",
    "    else:\n",
    "        rotatedMatrix = np.flip(image,1)\n",
    "    return rotatedMatrix\n",
    "datetime=[]\n",
    "lat=[]\n",
    "longit=[]\n",
    "landCover=[]\n",
    "observed=[]\n",
    "target=[]\n",
    "met0=[]\n",
    "met1=[]\n",
    "\n",
    "noOfTransformation = 4\n",
    "\n",
    "for index in range(10000):\n",
    "    targetIter= []\n",
    "    landIter = []\n",
    "    observedIter = []\n",
    "\n",
    "    met0Iter = []\n",
    "    met1Iter = []\n",
    "\n",
    "    for transform in range(noOfTransformation):\n",
    "        datetime.append(train_data['datetime'][index])\n",
    "        lat.append(train_data['latitude'][index])\n",
    "        longit.append(train_data['longitude'][index])\n",
    "        tempLandIter = []\n",
    "        tempObservedIter = []\n",
    "        tempTargetIter= []\n",
    "        tempMet0Iter = []\n",
    "        tempMet1Iter = []\n",
    "        for i in range(17):\n",
    "#             landCover.append(train_data['land_cover'][index][i])\n",
    "#             train_data['land_cover'][index][i] = transformImage(train_data['land_cover'][index][i], transform)\n",
    "            \n",
    "            if transform==0:\n",
    "                landCover.append(train_data['land_cover'][index][i].flatten())\n",
    "                \n",
    "                landIter.append(train_data['land_cover'][index][i])\n",
    "            else:\n",
    "                transformedImage = transformImage(landIter[i],transform)\n",
    "#                 print(transformedImage.flatten())\n",
    "                tempLandIter.append(transformedImage)\n",
    "                landCover.append(transformedImage.flatten())\n",
    "\n",
    "        if transform>0:\n",
    "            landIter = tempLandIter        \n",
    "# #############################################################        \n",
    "        for i in range(5):\n",
    "            if transform==0:\n",
    "#                 print(\"hi\")\n",
    "                observed.append(train_data['observed'][index][i].flatten())\n",
    "                observedIter.append(train_data['observed'][index][i])\n",
    "            else:\n",
    "                transformedImage = transformImage(observedIter[i],transform)\n",
    "                tempObservedIter.append(transformedImage)\n",
    "                observed.append(transformedImage.flatten())\n",
    "\n",
    "        if transform>0:\n",
    "            observedIter = tempObservedIter \n",
    "        \n",
    "# ##########################################################\n",
    "        for i in range(2):\n",
    "            if transform==0:\n",
    "                target.append(train_data['target'][index][i].flatten())\n",
    "                targetIter.append(train_data['target'][index][i])\n",
    "            else:\n",
    "                transformedImage = transformImage(targetIter[i],transform)\n",
    "                tempTargetIter.append(transformedImage)\n",
    "                target.append(transformedImage.flatten())\n",
    "\n",
    "        if transform>0:\n",
    "            targetIter = tempTargetIter\n",
    "\n",
    "# ###############################################################################\n",
    "        for i in range(5):\n",
    "            if transform==0:\n",
    "                met0.append(train_data['meteorology'][index][0][i].flatten())\n",
    "                met0Iter.append(train_data['meteorology'][index][0][i])\n",
    "            else:\n",
    "                transformedImage = transformImage(met0Iter[i],transform)\n",
    "                tempMet0Iter.append(transformedImage)\n",
    "                met0.append(transformedImage.flatten())\n",
    "\n",
    "        if transform>0:\n",
    "            met0Iter = tempMet0Iter\n",
    "# ######################################################################\n",
    "#         for i in range(5):\n",
    "#             if transform==0:\n",
    "#                 met1.append(train_data['meteorology'][index][1][i].flatten())\n",
    "#                 met1Iter.append(train_data['meteorology'][index][1][i])\n",
    "#             else:\n",
    "#                 transformedImage = transformImage(met1Iter[i],transform)\n",
    "#                 tempMet1Iter.append(transformedImage)\n",
    "#                 met1.append(transformedImage.flatten())\n",
    "\n",
    "#         if transform>0:\n",
    "#             met1Iter = tempMet1Iter\n",
    "#             met1.append(train_data['meteorology'][index][1][i].flatten())\n",
    "\n",
    "\n",
    "# writeToFile(datetime, 'datetime.csv')\n",
    "# writeToFile(lat, 'lat.csv')\n",
    "# writeToFile(longit, 'longit.csv')\n",
    "# writeToFile(met0, 'met0.csv')\n",
    "# writeToFile(met1, 'met1.csv')\n",
    "# writeToFile(landCover, 'landCover.csv')\n",
    "# writeToFile(observed, 'observed.csv')\n",
    "# writeToFile(target, 'target.csv')\n",
    "\n"
   ]
  },
  {
   "cell_type": "code",
   "execution_count": 108,
   "metadata": {},
   "outputs": [],
   "source": [
    "# Now the following is the reader for each and every csv the data is stored in exact same way as the origional data"
   ]
  },
  {
   "cell_type": "code",
   "execution_count": 133,
   "metadata": {},
   "outputs": [
    {
     "name": "stdout",
     "output_type": "stream",
     "text": [
      "40000\n"
     ]
    }
   ],
   "source": [
    "data = {}\n",
    "data['datetime']=[]\n",
    "spamreader = (np.loadtxt('datetime.csv', delimiter=','))\n",
    "# data['datetime']=[]\n",
    "# with open('datetime.csv') as csvfile:\n",
    "#     spamreader = csv.reader(csvfile, delimiter=',')\n",
    "#     fin = []\n",
    "\n",
    "for row in spamreader:\n",
    "    data['datetime'].append(row)\n",
    "print len(data['datetime'])\n",
    "\n",
    "\n",
    "\n"
   ]
  },
  {
   "cell_type": "code",
   "execution_count": 134,
   "metadata": {},
   "outputs": [
    {
     "name": "stdout",
     "output_type": "stream",
     "text": [
      "40000\n"
     ]
    }
   ],
   "source": [
    "data['longitude']=[]\n",
    "# with open('longit.csv') as csvfile:\n",
    "#     spamreader = csv.reader(csvfile, delimiter=' ')\n",
    "spamreader = (np.loadtxt('longit.csv', delimiter=','))\n",
    "for row in spamreader:\n",
    "    data['longitude'].append(row)\n",
    "print len(data['longitude'])"
   ]
  },
  {
   "cell_type": "code",
   "execution_count": 135,
   "metadata": {},
   "outputs": [
    {
     "name": "stdout",
     "output_type": "stream",
     "text": [
      "40000\n"
     ]
    }
   ],
   "source": [
    "data['latitude']=[]\n",
    "# with open('longit.csv') as csvfile:\n",
    "#     spamreader = csv.reader(csvfile, delimiter=' ')\n",
    "spamreader = (np.loadtxt('lat.csv', delimiter=','))\n",
    "for row in spamreader:\n",
    "    data['latitude'].append(row)\n",
    "print len(data['latitude'])"
   ]
  },
  {
   "cell_type": "code",
   "execution_count": 136,
   "metadata": {},
   "outputs": [
    {
     "name": "stdout",
     "output_type": "stream",
     "text": [
      "40000\n"
     ]
    }
   ],
   "source": [
    "print(len(data['longitude']))"
   ]
  },
  {
   "cell_type": "code",
   "execution_count": 139,
   "metadata": {},
   "outputs": [
    {
     "name": "stdout",
     "output_type": "stream",
     "text": [
      "40000\n"
     ]
    }
   ],
   "source": [
    "spamreader = np.loadtxt('target.csv', delimiter=',')\n",
    "\n",
    "data['target']=[]\n",
    "i=0\n",
    "index=0\n",
    "data['target'].append([[],[]])\n",
    "for row in spamreader:\n",
    "    data['target'][index][i%2].append(row)\n",
    "    if i%2==1:\n",
    "        index+=1\n",
    "        if index<40000:\n",
    "            data['target'].append([[],[]])\n",
    "    i+=1\n",
    "print(index)\n",
    "# print data['target']\n"
   ]
  },
  {
   "cell_type": "code",
   "execution_count": null,
   "metadata": {},
   "outputs": [],
   "source": []
  },
  {
   "cell_type": "code",
   "execution_count": null,
   "metadata": {},
   "outputs": [],
   "source": [
    "data['observed'] = []\n",
    "\n",
    "spamreader = np.loadtxt('observed.csv', delimiter=',')\n",
    "\n",
    "i=0\n",
    "index=0\n",
    "data['observed'].append([[],[],[],[],[]])\n",
    "for row in spamreader:\n",
    "\n",
    "#     student = (row[0].strip())\n",
    "    data['observed'][index][i%5].append(row)\n",
    "    if i%5==4:\n",
    "        index+=1\n",
    "        if index<40000:\n",
    "            data['observed'].append([[],[],[],[],[]])\n",
    "\n",
    "    i+=1\n",
    "print(index)\n"
   ]
  },
  {
   "cell_type": "code",
   "execution_count": null,
   "metadata": {},
   "outputs": [],
   "source": []
  },
  {
   "cell_type": "code",
   "execution_count": null,
   "metadata": {},
   "outputs": [],
   "source": [
    "data['landCover'] = []\n",
    "\n",
    "spamreader = np.loadtxt('landCover.csv', delimiter=',')\n",
    "fin = []\n",
    "i=0\n",
    "index=0\n",
    "data['landCover'].append([[],[],[],[],[],[],[],[],[],[],[],[],[],[],[],[],[]])\n",
    "for row in spamreader:\n",
    "\n",
    "    data['landCover'][index][i%17].append(row)\n",
    "    if i%17==16:\n",
    "        index+=1\n",
    "        if index<40000:\n",
    "            data['landCover'].append([[],[],[],[],[],[],[],[],[],[],[],[],[],[],[],[],[]])\n",
    "    i+=1\n",
    "print(index)"
   ]
  },
  {
   "cell_type": "code",
   "execution_count": 121,
   "metadata": {},
   "outputs": [],
   "source": [
    "# print (data['landCover'][100][0])"
   ]
  },
  {
   "cell_type": "code",
   "execution_count": null,
   "metadata": {},
   "outputs": [],
   "source": [
    "data['meteorology']=[]\n",
    "\n",
    "spamreader = np.loadtxt('met0.csv', delimiter=',')\n",
    "fin = []\n",
    "i=0\n",
    "index=0\n",
    "data['meteorology'].append([[],[],[],[],[]])\n",
    "for row in spamreader:\n",
    "\n",
    "    data['meteorology'][index][i%5].append(row)\n",
    "    if i%5==4:\n",
    "        index+=1\n",
    "        if index<40000:\n",
    "            data['meteorology'].append([[],[],[],[],[]])\n",
    "    i+=1\n",
    "print(index)\n",
    "        "
   ]
  },
  {
   "cell_type": "code",
   "execution_count": null,
   "metadata": {},
   "outputs": [],
   "source": [
    "x_train, x_test, y_train, y_test = train_test_split(data, digits.target, test_size=0.25, random_state=0)"
   ]
  },
  {
   "cell_type": "code",
   "execution_count": 123,
   "metadata": {},
   "outputs": [
    {
     "name": "stdout",
     "output_type": "stream",
     "text": [
      "['target', 'meteorology', 'longitude', 'datetime', 'observed', 'latitude', 'landCover']\n"
     ]
    }
   ],
   "source": [
    "print(data.keys())"
   ]
  },
  {
   "cell_type": "code",
   "execution_count": 125,
   "metadata": {},
   "outputs": [
    {
     "name": "stdout",
     "output_type": "stream",
     "text": [
      "target 1\n",
      "meteorology 401\n",
      "longitude 400\n",
      "datetime 400\n",
      "observed 1\n",
      "latitude 400\n",
      "landCover 401\n"
     ]
    }
   ],
   "source": [
    "for key in data.keys():\n",
    "    print key,len(data[key])"
   ]
  },
  {
   "cell_type": "code",
   "execution_count": 126,
   "metadata": {},
   "outputs": [],
   "source": [
    "def getFeatureIndex(index, train_data):\n",
    "    ret ={}\n",
    "    for key in train_data.keys():\n",
    "        ret[key]= train_data[key][index]\n",
    "    return ret\n",
    "\n"
   ]
  },
  {
   "cell_type": "code",
   "execution_count": 127,
   "metadata": {},
   "outputs": [],
   "source": [
    "import random\n",
    "indexList = list(xrange(0,29999))\n",
    "random.shuffle(indexList)"
   ]
  },
  {
   "cell_type": "code",
   "execution_count": null,
   "metadata": {},
   "outputs": [],
   "source": []
  },
  {
   "cell_type": "code",
   "execution_count": 128,
   "metadata": {},
   "outputs": [
    {
     "ename": "IndexError",
     "evalue": "list index out of range",
     "output_type": "error",
     "traceback": [
      "\u001b[1;31m---------------------------------------------------------------------------\u001b[0m",
      "\u001b[1;31mIndexError\u001b[0m                                Traceback (most recent call last)",
      "\u001b[1;32m<ipython-input-128-2d6cb1c82dff>\u001b[0m in \u001b[0;36m<module>\u001b[1;34m()\u001b[0m\n\u001b[0;32m      4\u001b[0m \u001b[0mtestData\u001b[0m \u001b[1;33m=\u001b[0m \u001b[1;33m[\u001b[0m\u001b[1;33m]\u001b[0m\u001b[1;33m\u001b[0m\u001b[0m\n\u001b[0;32m      5\u001b[0m \u001b[1;32mfor\u001b[0m \u001b[0mx\u001b[0m \u001b[1;32min\u001b[0m \u001b[0mtrainList\u001b[0m\u001b[1;33m:\u001b[0m\u001b[1;33m\u001b[0m\u001b[0m\n\u001b[1;32m----> 6\u001b[1;33m     \u001b[0mtrainData\u001b[0m\u001b[1;33m.\u001b[0m\u001b[0mappend\u001b[0m\u001b[1;33m(\u001b[0m\u001b[0mgetFeatureIndex\u001b[0m\u001b[1;33m(\u001b[0m\u001b[0mx\u001b[0m\u001b[1;33m,\u001b[0m\u001b[0mdata\u001b[0m\u001b[1;33m)\u001b[0m\u001b[1;33m)\u001b[0m\u001b[1;33m\u001b[0m\u001b[0m\n\u001b[0m\u001b[0;32m      7\u001b[0m \u001b[1;32mfor\u001b[0m \u001b[0mu\u001b[0m \u001b[1;32min\u001b[0m \u001b[0mtestList\u001b[0m\u001b[1;33m:\u001b[0m\u001b[1;33m\u001b[0m\u001b[0m\n\u001b[0;32m      8\u001b[0m     \u001b[0mtestData\u001b[0m\u001b[1;33m.\u001b[0m\u001b[0mappend\u001b[0m\u001b[1;33m(\u001b[0m\u001b[0mgetFeatureIndex\u001b[0m\u001b[1;33m(\u001b[0m\u001b[0mu\u001b[0m\u001b[1;33m,\u001b[0m\u001b[0mdata\u001b[0m\u001b[1;33m)\u001b[0m\u001b[1;33m)\u001b[0m\u001b[1;33m\u001b[0m\u001b[0m\n",
      "\u001b[1;32m<ipython-input-126-d2da77a7b595>\u001b[0m in \u001b[0;36mgetFeatureIndex\u001b[1;34m(index, train_data)\u001b[0m\n\u001b[0;32m      2\u001b[0m     \u001b[0mret\u001b[0m \u001b[1;33m=\u001b[0m\u001b[1;33m{\u001b[0m\u001b[1;33m}\u001b[0m\u001b[1;33m\u001b[0m\u001b[0m\n\u001b[0;32m      3\u001b[0m     \u001b[1;32mfor\u001b[0m \u001b[0mkey\u001b[0m \u001b[1;32min\u001b[0m \u001b[0mtrain_data\u001b[0m\u001b[1;33m.\u001b[0m\u001b[0mkeys\u001b[0m\u001b[1;33m(\u001b[0m\u001b[1;33m)\u001b[0m\u001b[1;33m:\u001b[0m\u001b[1;33m\u001b[0m\u001b[0m\n\u001b[1;32m----> 4\u001b[1;33m         \u001b[0mret\u001b[0m\u001b[1;33m[\u001b[0m\u001b[0mkey\u001b[0m\u001b[1;33m]\u001b[0m\u001b[1;33m=\u001b[0m \u001b[0mtrain_data\u001b[0m\u001b[1;33m[\u001b[0m\u001b[0mkey\u001b[0m\u001b[1;33m]\u001b[0m\u001b[1;33m[\u001b[0m\u001b[0mindex\u001b[0m\u001b[1;33m]\u001b[0m\u001b[1;33m\u001b[0m\u001b[0m\n\u001b[0m\u001b[0;32m      5\u001b[0m     \u001b[1;32mreturn\u001b[0m \u001b[0mret\u001b[0m\u001b[1;33m\u001b[0m\u001b[0m\n\u001b[0;32m      6\u001b[0m \u001b[1;33m\u001b[0m\u001b[0m\n",
      "\u001b[1;31mIndexError\u001b[0m: list index out of range"
     ]
    }
   ],
   "source": [
    "trainList = indexList[:24000]\n",
    "testList = indexList[24000:]\n",
    "trainData = []\n",
    "testData = []\n",
    "for x in trainList:\n",
    "    trainData.append(getFeatureIndex(x,data))\n",
    "for u in testList:\n",
    "    testData.append(getFeatureIndex(u,data))"
   ]
  },
  {
   "cell_type": "code",
   "execution_count": null,
   "metadata": {},
   "outputs": [],
   "source": [
    "print len(trainData),len(testData)"
   ]
  },
  {
   "cell_type": "code",
   "execution_count": null,
   "metadata": {},
   "outputs": [],
   "source": [
    "from sklearn.linear_model import LogisticRegression"
   ]
  },
  {
   "cell_type": "code",
   "execution_count": null,
   "metadata": {},
   "outputs": [],
   "source": [
    "logisticRegr = LogisticRegression()"
   ]
  },
  {
   "cell_type": "code",
   "execution_count": 216,
   "metadata": {},
   "outputs": [
    {
     "ename": "TypeError",
     "evalue": "a float is required",
     "output_type": "error",
     "traceback": [
      "\u001b[1;31m---------------------------------------------------------------------------\u001b[0m",
      "\u001b[1;31mTypeError\u001b[0m                                 Traceback (most recent call last)",
      "\u001b[1;32m<ipython-input-216-38a4153d5f79>\u001b[0m in \u001b[0;36m<module>\u001b[1;34m()\u001b[0m\n\u001b[0;32m      1\u001b[0m \u001b[0myTrain\u001b[0m \u001b[1;33m=\u001b[0m \u001b[1;33m[\u001b[0m\u001b[1;33m]\u001b[0m\u001b[1;33m\u001b[0m\u001b[0m\n\u001b[0;32m      2\u001b[0m \u001b[1;32mfor\u001b[0m \u001b[0mx\u001b[0m \u001b[1;32min\u001b[0m \u001b[0mtrainData\u001b[0m\u001b[1;33m:\u001b[0m\u001b[1;33m\u001b[0m\u001b[0m\n\u001b[1;32m----> 3\u001b[1;33m     \u001b[0mx\u001b[0m\u001b[1;33m[\u001b[0m\u001b[1;34m'target'\u001b[0m\u001b[1;33m]\u001b[0m\u001b[1;33m[\u001b[0m\u001b[1;36m0\u001b[0m\u001b[1;33m]\u001b[0m\u001b[1;33m[\u001b[0m\u001b[1;36m0\u001b[0m\u001b[1;33m]\u001b[0m \u001b[1;33m=\u001b[0m \u001b[1;33m[\u001b[0m\u001b[1;33m-\u001b[0m\u001b[1;36m1\u001b[0m \u001b[1;32mif\u001b[0m \u001b[0mmath\u001b[0m\u001b[1;33m.\u001b[0m\u001b[0misnan\u001b[0m\u001b[1;33m(\u001b[0m\u001b[0mm\u001b[0m\u001b[1;33m)\u001b[0m \u001b[1;32melse\u001b[0m \u001b[0mm\u001b[0m \u001b[1;32mfor\u001b[0m \u001b[0mm\u001b[0m \u001b[1;32min\u001b[0m \u001b[0mx\u001b[0m\u001b[1;33m[\u001b[0m\u001b[1;34m'target'\u001b[0m\u001b[1;33m]\u001b[0m\u001b[1;33m[\u001b[0m\u001b[1;36m0\u001b[0m\u001b[1;33m]\u001b[0m\u001b[1;33m[\u001b[0m\u001b[1;36m0\u001b[0m\u001b[1;33m]\u001b[0m\u001b[1;33m]\u001b[0m\u001b[1;33m\u001b[0m\u001b[0m\n\u001b[0m\u001b[0;32m      4\u001b[0m     \u001b[0myTrain\u001b[0m\u001b[1;33m.\u001b[0m\u001b[0mappend\u001b[0m\u001b[1;33m(\u001b[0m\u001b[0mx\u001b[0m\u001b[1;33m[\u001b[0m\u001b[1;34m'target'\u001b[0m\u001b[1;33m]\u001b[0m\u001b[1;33m[\u001b[0m\u001b[1;36m0\u001b[0m\u001b[1;33m]\u001b[0m\u001b[1;33m[\u001b[0m\u001b[1;36m0\u001b[0m\u001b[1;33m]\u001b[0m\u001b[1;33m)\u001b[0m\u001b[1;33m\u001b[0m\u001b[0m\n",
      "\u001b[1;31mTypeError\u001b[0m: a float is required"
     ]
    }
   ],
   "source": [
    "yTrain = []\n",
    "for x in trainData:\n",
    "    yTrain.append(x['target'][0][0])\n"
   ]
  },
  {
   "cell_type": "code",
   "execution_count": 173,
   "metadata": {},
   "outputs": [],
   "source": [
    "yTest = []\n",
    "for x in testData:\n",
    "    yTest.append(x['target'][0][0])"
   ]
  },
  {
   "cell_type": "code",
   "execution_count": 174,
   "metadata": {},
   "outputs": [],
   "source": [
    "aspect = list()\n",
    "canopydensity = list()\n",
    "canopybaseheight = list()\n",
    "canopycover = list()\n",
    "canopyHeight = list()\n",
    "elevation = list()\n",
    "slope = list()\n",
    "observed_48 = list()\n",
    "observed_36 = list()\n",
    "observed_24 = list()\n",
    "observed_12 = list()\n",
    "observed_0 = list()\n",
    "target_12 = list()\n",
    "datetime = list()\n",
    "latitude = list()\n",
    "longitude = list()"
   ]
  },
  {
   "cell_type": "code",
   "execution_count": 204,
   "metadata": {},
   "outputs": [],
   "source": [
    "for i in range(30000):\n",
    "    aspect.append(data['landCover'][i][0][0])\n",
    "    canopydensity.append(data['landCover'][i][1][0])\n",
    "    canopybaseheight.append(data['landCover'][i][2][0])\n",
    "    canopycover.append(data['landCover'][i][3][0])\n",
    "    canopyHeight.append(data['landCover'][i][4][0])\n",
    "    elevation.append(data['landCover'][i][5][0])\n",
    "    slope.append(data['landCover'][i][16][0])\n",
    "    observed_48.append(data['observed'][i][4][0])\n",
    "    observed_36.append(data['observed'][i][3][0])\n",
    "    observed_24.append(data['observed'][i][2][0])\n",
    "    observed_12.append(data['observed'][i][1][0])\n",
    "    observed_0.append(data['observed'][i][0][0])\n",
    "    datetime.append(data['datetime'][i])"
   ]
  },
  {
   "cell_type": "code",
   "execution_count": 222,
   "metadata": {},
   "outputs": [],
   "source": [
    "import json\n",
    "import re"
   ]
  },
  {
   "cell_type": "code",
   "execution_count": 246,
   "metadata": {},
   "outputs": [
    {
     "name": "stdout",
     "output_type": "stream",
     "text": [
      "['[ 84.6256 112.5616 120.6624 156.4224 163.8992 219.9088 173.3312 189.2384\\n 136.2416  87.7552 181.7312 155.2    254.0848 271.064  222.4496 160.2864\\n 189.6272 259.1952 246.632  226.3408 226.376  234.2832 116.1248 163.1744\\n 172.1456 224.0304 280.728  159.4992 285.1312 117.224  135.7424 115.2752\\n 111.84    73.9488 290.856  220.7472  89.5072 144.8832 186.1744 127.64\\n 195.3056 159.456  195.9504 277.1984 264.424  136.0144 117.4928 204.8016\\n 214.2608 172.9776 219.08   243.9728 173.7984  73.5712 126.8752 272.3536\\n 256.376  200.3824 226.8912 174.6704 137.2336 245.416  128.2256 197.0544\\n 271.3088 194.3648 113.4208  93.952  169.4448 215.3392 217.0528 237.0848\\n 192.7856 207.7008 229.4976 131.7952 119.6048 263.2208 267.0016 192.2912\\n 109.5088 243.4608 176.8736 145.248  124.1264 228.1328 250.4896 247.6\\n 261.9248 215.0064 135.0832 142.4016  94.4624 152.0464 229.9968 114.4992\\n 103.36   143.904  171.1728 207.4288 222.2208 203.8912 251.1696 173.8288\\n 214.8672 118.688  204.0176 236.9712 248.5088 226.8544 181.656  120.152\\n 176.3104 112.1216 228.712  192.4304 211.9008 253.7472 241.0128 187.7264\\n 170.0816 115.6592  95.5136 165.6608 188.456   80.9392  93.6432 230.0592\\n 187.0784  83.1456 226.7216 243.0544 251.8848 252.5856 263.0144 143.3728\\n 157.112  211.192  181.0752 214.7456 223.8896 170.3952 150.8624 161.1792\\n 150.3024 245.1632 201.72   225.8832 175.8816 214.192   92.0912 121.5152\\n 144.6528 180.9504 172.7216 130.952  142.6064 318.1904 193.2288  66.6208\\n 208.712  248.8656 260.656  258.4896 266.5024 124.8896 100.872  261.4288\\n 206.0992 159.2512 194.3472 241.0704 220.792  133.4512 167.4704 176.52\\n 230.3056 211.4928 182.8768 207.504   98.2     60.0208  68.6416  65.0576\\n 129.312  155.6384 290.1728 291.3024  72.4896  67.5552 158.584  195.3936\\n 198.1408 238.4576 256.4544 105.9616  84.0976 244.9232 242.7792 231.7872\\n 148.5168 188.296  271.472  129.3664 174.6336 111.1552 219.3408 243.8464\\n 156.9472 228.     122.9904  71.2944  60.7088  63.5696 105.6352 143.0336\\n 268.1632 258.9696  92.9056  91.4784 233.0256 218.328  215.9648 195.7312\\n 169.0016 174.5344 109.7648 151.7552 210.8592 195.0672 234.9776 188.0688\\n 230.2912 196.416  158.4832 173.0656 199.2544 234.3776 156.2208 252.1504\\n 111.7024  96.6144  68.0672  82.64   107.5536 163.6592 191.8208 235.5712\\n 165.2128 102.8352 213.3824 234.464  221.6912 102.8976 108.4928 187.3248\\n 191.2128 118.1664 195.3568 270.496  217.9104 229.2096 261.2464 215.1568\\n 128.5664 190.0832 123.608  154.4368 209.312  261.4624  84.0288 111.9744\\n 103.1712 100.9632 107.9184 185.784  153.5488 218.1632 126.4832 135.1264\\n 155.3504 268.2656 139.6976 103.2144 100.8448 139.0816 210.8704 180.6464\\n 190.064  214.0992 212.7328 235.3984 225.7584 240.5008 109.6928 192.5984\\n 168.2032 144.792  173.4336 247.2992  78.3312  42.3888 121.904   96.5248\\n  95.6864 210.0672 150.8128 169.1904 230.608   97.1008 136.0352 175.5776\\n 140.2144 114.9984  96.4976 120.168  223.9808 219.7408 236.352  206.3136\\n 155.3696 184.3264 247.8128 237.56   193.0704 119.9536 265.5392 194.464\\n 114.8432 244.072  164.4304 135.5856  94.9792  80.864  111.3344 181.1712\\n  97.7696 158.1312 221.1264 193.7952 172.64    80.336   82.4    154.6112\\n 113.5696 104.1456 174.3488 259.216  233.1328 231.1008 209.7056  81.3312\\n 194.84   265.3424 252.0976 108.3056 238.7904 190.16   155.2176 157.9184\\n 142.8256 220.5536 121.9792  72.808  146.8624  98.5392 134.9392 110.68\\n 148.648  160.696  172.0368 164.4112 139.3664  90.2496 133.5056  87.3136\\n 195.664  234.2624 245.792  248.0768 265.56   183.6336  82.5616 238.9776\\n 251.04   180.1152 162.3856 134.9968 164.4688 121.0416 164.3232 163.9456\\n 212.5296 101.72   155.608   81.1664 210.9392 129.7456 118.2992  93.0672\\n 111.3552 136.1328 181.8464 177.1008 139.656  105.6688 187.5424 198.9088\\n 216.4192 237.616  229.8448 241.2304 203.1344 172.9712 243.904  239.3152\\n 125.8352 221.1216 150.4496 128.5264 161.0384 105.4512  93.6336 102.9488\\n  87.896  135.0736 122.3632 119.9792 102.24   147.7536  89.4672 122.1232\\n 115.256  107.3456 133.792  158.032  215.272  153.192  195.5728 164.184\\n 227.0176 237.3408 176.2864 189.4928 238.6912 206.8096 139.248  146.784\\n 223.5968 176.352  181.5824 218.4496  64.3664  81.7328  88.1872 115.0576\\n 170.8496 122.9296 140.6688 201.4016  93.3008 128.5104 109.0544 109.7456\\n 107.6416 220.88   206.3024 209.1888 189.928   58.4304 269.9584 265.9136\\n 165.432  235.3936 263.536  236.7808 188.4832 201.0944 231.3536 214.1632\\n 222.3984 142.6736  94.8208 153.5728 103.0688 104.6144 159.1184 180.8144\\n 144.7328 195.2448 113.0752 117.0464 105.2256  86.0576  77.4208 114.2912\\n 215.296  215.744  200.4976  86.4848 234.8912 259.592  139.1984 185.0992\\n 250.016  241.5872 167.8128 209.9952 218.4736 148.8352 187.016  152.0592\\n  77.9568 115.1856 154.6048  74.6464 163.8544 113.9472 233.6608 118.1056\\n 195.4496  90.416  104.9472 137.2992  67.5872 102.9024 194.6208 288.7072\\n  86.8592 151.7456 252.9488 284.7152 248.088  201.4576 202.7136 237.3184\\n 155.1824 253.256  183.5328 100.3136 230.464  211.6992 233.848   97.9504\\n 163.192  108.1136 112.7776  92.7008 183.4544 140.2768 171.1376 115.9344\\n 109.5104 200.624   98.6272 180.0384 182.4256 284.8704  75.8864 208.0592\\n 204.8208 247.1856 260.5584 204.3216 272.1024 219.5488 209.072  224.1024\\n 182.4416 114.112  246.304  230.432  199.544  140.2544 184.8432 136.088\\n 154.9856 140.176  189.5568 158.4944 153.     167.8    121.2768 128.9536\\n 113.2512 130.9248 204.7968 293.8144  76.136  207.0352 113.0896 287.6144\\n 257.0608 243.1216 244.0064 178.1024 225.1776 229.0592 153.536  118.2304\\n 192.7072 217.7408 168.2384 176.3472 208.208  188.144  178.6096 105.3968\\n 213.9984 195.912  152.672  169.8624 239.288  154.6416  99.1936 109.8784\\n 165.7952 260.064  117.9536 179.1824 138.5088 233.4784 268.9776 235.5984\\n 263.1664 198.2992 239.5088 180.2192 123.5952 119.432  204.9568 185.9392\\n 189.9344 141.7104 212.416  146.2144 243.0352 133.752  120.7952 128.7056\\n 110.8736 192.416  276.4976 150.1616 114.1664 122.7904 237.664  197.1232\\n 139.9952 106.632  211.7984 191.4016 101.3936 283.9952 260.4176 206.36\\n 198.7632 102.1872  72.7632 153.4576 181.1296 165.3856 206.552  182.44\\n 194.12   218.4656 195.2608 198.7136  80.3328 152.5088  96.6128 106.4976\\n 291.0208 126.0192 177.5392 240.6112 187.416  178.4304  77.424  145.2128\\n 178.6832 240.6704 191.3104 197.0544 204.8528 211.4832 253.1312 181.064\\n 100.2944 144.8608 157.7792 189.5232 193.0608 194.3504 210.2992 238.536\\n 183.8624 235.776  214.8704  79.584  221.48   164.2992 195.7824 152.0032\\n  83.824  230.3072 246.872  109.0224 105.8016  96.8608 118.152  205.4896\\n 225.7488 217.0224 175.1056 290.8304 282.3888 202.5648 127.4336 156.192\\n 149.1552 184.304  197.2528 204.6128 246.0656 209.5728 186.2048 212.016\\n 241.0848 170.5824 194.6544 196.6192  90.7664 183.176  192.8416 208.1504\\n 190.1184 133.696   80.5024  79.6256 212.08   232.2848 118.0032 182.8896\\n 225.3504 257.8336 275.0176 170.5888 154.8944 188.4784 122.6528 210.5056\\n 146.1648 253.0384 238.9232 225.976  164.8576 232.6976 243.632  189.0336\\n 213.3744 199.1472 107.672  148.5552 218.1632 246.3232 205.616  196.8416\\n  87.0144  70.4256 205.8304 263.0208 167.3216 161.1296 154.544  273.984\\n 283.3824  91.12   199.3936 205.432  148.5136 219.1984 191.4128 224.7152\\n 186.2416 221.9472 180.3024 190.3696 261.736  181.2112 246.6496 155.7536\\n 137.6272  99.3168 221.0672 233.832  217.224  240.3152 142.3696  62.0944\\n 163.3264 283.2624 260.5008 216.1808 214.3808 141.0976 227.4496 154.256\\n 129.6016 219.7328 184.0784 228.7536 207.2848 211.3776 206.1648 234.4336\\n 264.3888 187.2112 172.8496 264.1008 216.1632 167.7248 114.4752 105.5088\\n 209.9408 239.2176 215.3776 234.7184 227.5056  82.8912 188.8304 183.5632\\n 245.208  250.3664 189.824  185.392  149.0336 208.416  188.6288 176.9552\\n 178.4256 191.9424 230.2208 220.384  250.4464 121.4736 238.952  206.8752\\n 208.808  179.832  151.9072 164.6016 174.1392 135.6816 184.5808 227.6432\\n 228.3184 223.1216 236.512  178.2656 148.496  157.232  210.856  148.936\\n 213.0192 161.6592 169.072  241.8976 200.928  216.2816 178.032  243.7152\\n 202.976  232.96   249.576  147.8288 227.6432 258.888  187.4128 160.9264\\n  90.7328 188.8928 119.2848 166.024  172.44   239.2336 233.7072 237.88\\n 270.5248 197.9232  72.0928 104.6176 124.1008 200.28   215.4896  88.3792\\n 233.5008 249.2512 249.9712 250.176 ]']\n"
     ]
    }
   ],
   "source": [
    "print (data['landCover'][i][0])"
   ]
  },
  {
   "cell_type": "code",
   "execution_count": 239,
   "metadata": {},
   "outputs": [],
   "source": []
  },
  {
   "cell_type": "code",
   "execution_count": 241,
   "metadata": {},
   "outputs": [
    {
     "name": "stdout",
     "output_type": "stream",
     "text": [
      "84.6256112.5616120.6624156.4224163.8992219.9088173.3312189.2384\n",
      "136.241687.7552181.7312155.2254.0848271.064222.4496160.2864\n",
      "189.6272259.1952246.632226.3408226.376234.2832116.1248163.1744\n",
      "172.1456224.0304280.728159.4992285.1312117.224135.7424115.2752\n",
      "111.8473.9488290.856220.747289.5072144.8832186.1744127.64\n",
      "195.3056159.456195.9504277.1984264.424136.0144117.4928204.8016\n",
      "214.2608172.9776219.08243.9728173.798473.5712126.8752272.3536\n",
      "256.376200.3824226.8912174.6704137.2336245.416128.2256197.0544\n",
      "271.3088194.3648113.420893.952169.4448215.3392217.0528237.0848\n",
      "192.7856207.7008229.4976131.7952119.6048263.2208267.0016192.2912\n",
      "109.5088243.4608176.8736145.248124.1264228.1328250.4896247.6\n",
      "261.9248215.0064135.0832142.401694.4624152.0464229.9968114.4992\n",
      "103.36143.904171.1728207.4288222.2208203.8912251.1696173.8288\n",
      "214.8672118.688204.0176236.9712248.5088226.8544181.656120.152\n",
      "176.3104112.1216228.712192.4304211.9008253.7472241.0128187.7264\n",
      "170.0816115.659295.5136165.6608188.45680.939293.6432230.0592\n",
      "187.078483.1456226.7216243.0544251.8848252.5856263.0144143.3728\n",
      "157.112211.192181.0752214.7456223.8896170.3952150.8624161.1792\n",
      "150.3024245.1632201.72225.8832175.8816214.19292.0912121.5152\n",
      "144.6528180.9504172.7216130.952142.6064318.1904193.228866.6208\n",
      "208.712248.8656260.656258.4896266.5024124.8896100.872261.4288\n",
      "206.0992159.2512194.3472241.0704220.792133.4512167.4704176.52\n",
      "230.3056211.4928182.8768207.50498.260.020868.641665.0576\n",
      "129.312155.6384290.1728291.302472.489667.5552158.584195.3936\n",
      "198.1408238.4576256.4544105.961684.0976244.9232242.7792231.7872\n",
      "148.5168188.296271.472129.3664174.6336111.1552219.3408243.8464\n",
      "156.9472228.122.990471.294460.708863.5696105.6352143.0336\n",
      "268.1632258.969692.905691.4784233.0256218.328215.9648195.7312\n",
      "169.0016174.5344109.7648151.7552210.8592195.0672234.9776188.0688\n",
      "230.2912196.416158.4832173.0656199.2544234.3776156.2208252.1504\n",
      "111.702496.614468.067282.64107.5536163.6592191.8208235.5712\n",
      "165.2128102.8352213.3824234.464221.6912102.8976108.4928187.3248\n",
      "191.2128118.1664195.3568270.496217.9104229.2096261.2464215.1568\n",
      "128.5664190.0832123.608154.4368209.312261.462484.0288111.9744\n",
      "103.1712100.9632107.9184185.784153.5488218.1632126.4832135.1264\n",
      "155.3504268.2656139.6976103.2144100.8448139.0816210.8704180.6464\n",
      "190.064214.0992212.7328235.3984225.7584240.5008109.6928192.5984\n",
      "168.2032144.792173.4336247.299278.331242.3888121.90496.5248\n",
      "95.6864210.0672150.8128169.1904230.60897.1008136.0352175.5776\n",
      "140.2144114.998496.4976120.168223.9808219.7408236.352206.3136\n",
      "155.3696184.3264247.8128237.56193.0704119.9536265.5392194.464\n",
      "114.8432244.072164.4304135.585694.979280.864111.3344181.1712\n",
      "97.7696158.1312221.1264193.7952172.6480.33682.4154.6112\n",
      "113.5696104.1456174.3488259.216233.1328231.1008209.705681.3312\n",
      "194.84265.3424252.0976108.3056238.7904190.16155.2176157.9184\n",
      "142.8256220.5536121.979272.808146.862498.5392134.9392110.68\n",
      "148.648160.696172.0368164.4112139.366490.2496133.505687.3136\n",
      "195.664234.2624245.792248.0768265.56183.633682.5616238.9776\n",
      "251.04180.1152162.3856134.9968164.4688121.0416164.3232163.9456\n",
      "212.5296101.72155.60881.1664210.9392129.7456118.299293.0672\n",
      "111.3552136.1328181.8464177.1008139.656105.6688187.5424198.9088\n",
      "216.4192237.616229.8448241.2304203.1344172.9712243.904239.3152\n",
      "125.8352221.1216150.4496128.5264161.0384105.451293.6336102.9488\n",
      "87.896135.0736122.3632119.9792102.24147.753689.4672122.1232\n",
      "115.256107.3456133.792158.032215.272153.192195.5728164.184\n",
      "227.0176237.3408176.2864189.4928238.6912206.8096139.248146.784\n",
      "223.5968176.352181.5824218.449664.366481.732888.1872115.0576\n",
      "170.8496122.9296140.6688201.401693.3008128.5104109.0544109.7456\n",
      "107.6416220.88206.3024209.1888189.92858.4304269.9584265.9136\n",
      "165.432235.3936263.536236.7808188.4832201.0944231.3536214.1632\n",
      "222.3984142.673694.8208153.5728103.0688104.6144159.1184180.8144\n",
      "144.7328195.2448113.0752117.0464105.225686.057677.4208114.2912\n",
      "215.296215.744200.497686.4848234.8912259.592139.1984185.0992\n",
      "250.016241.5872167.8128209.9952218.4736148.8352187.016152.0592\n",
      "77.9568115.1856154.604874.6464163.8544113.9472233.6608118.1056\n",
      "195.449690.416104.9472137.299267.5872102.9024194.6208288.7072\n",
      "86.8592151.7456252.9488284.7152248.088201.4576202.7136237.3184\n",
      "155.1824253.256183.5328100.3136230.464211.6992233.84897.9504\n",
      "163.192108.1136112.777692.7008183.4544140.2768171.1376115.9344\n",
      "109.5104200.62498.6272180.0384182.4256284.870475.8864208.0592\n",
      "204.8208247.1856260.5584204.3216272.1024219.5488209.072224.1024\n",
      "182.4416114.112246.304230.432199.544140.2544184.8432136.088\n",
      "154.9856140.176189.5568158.4944153.167.8121.2768128.9536\n",
      "113.2512130.9248204.7968293.814476.136207.0352113.0896287.6144\n",
      "257.0608243.1216244.0064178.1024225.1776229.0592153.536118.2304\n",
      "192.7072217.7408168.2384176.3472208.208188.144178.6096105.3968\n",
      "213.9984195.912152.672169.8624239.288154.641699.1936109.8784\n",
      "165.7952260.064117.9536179.1824138.5088233.4784268.9776235.5984\n",
      "263.1664198.2992239.5088180.2192123.5952119.432204.9568185.9392\n",
      "189.9344141.7104212.416146.2144243.0352133.752120.7952128.7056\n",
      "110.8736192.416276.4976150.1616114.1664122.7904237.664197.1232\n",
      "139.9952106.632211.7984191.4016101.3936283.9952260.4176206.36\n",
      "198.7632102.187272.7632153.4576181.1296165.3856206.552182.44\n",
      "194.12218.4656195.2608198.713680.3328152.508896.6128106.4976\n",
      "291.0208126.0192177.5392240.6112187.416178.430477.424145.2128\n",
      "178.6832240.6704191.3104197.0544204.8528211.4832253.1312181.064\n",
      "100.2944144.8608157.7792189.5232193.0608194.3504210.2992238.536\n",
      "183.8624235.776214.870479.584221.48164.2992195.7824152.0032\n",
      "83.824230.3072246.872109.0224105.801696.8608118.152205.4896\n",
      "225.7488217.0224175.1056290.8304282.3888202.5648127.4336156.192\n",
      "149.1552184.304197.2528204.6128246.0656209.5728186.2048212.016\n",
      "241.0848170.5824194.6544196.619290.7664183.176192.8416208.1504\n",
      "190.1184133.69680.502479.6256212.08232.2848118.0032182.8896\n",
      "225.3504257.8336275.0176170.5888154.8944188.4784122.6528210.5056\n",
      "146.1648253.0384238.9232225.976164.8576232.6976243.632189.0336\n",
      "213.3744199.1472107.672148.5552218.1632246.3232205.616196.8416\n",
      "87.014470.4256205.8304263.0208167.3216161.1296154.544273.984\n",
      "283.382491.12199.3936205.432148.5136219.1984191.4128224.7152\n",
      "186.2416221.9472180.3024190.3696261.736181.2112246.6496155.7536\n",
      "137.627299.3168221.0672233.832217.224240.3152142.369662.0944\n",
      "163.3264283.2624260.5008216.1808214.3808141.0976227.4496154.256\n",
      "129.6016219.7328184.0784228.7536207.2848211.3776206.1648234.4336\n",
      "264.3888187.2112172.8496264.1008216.1632167.7248114.4752105.5088\n",
      "209.9408239.2176215.3776234.7184227.505682.8912188.8304183.5632\n",
      "245.208250.3664189.824185.392149.0336208.416188.6288176.9552\n",
      "178.4256191.9424230.2208220.384250.4464121.4736238.952206.8752\n",
      "208.808179.832151.9072164.6016174.1392135.6816184.5808227.6432\n",
      "228.3184223.1216236.512178.2656148.496157.232210.856148.936\n",
      "213.0192161.6592169.072241.8976200.928216.2816178.032243.7152\n",
      "202.976232.96249.576147.8288227.6432258.888187.4128160.9264\n",
      "90.7328188.8928119.2848166.024172.44239.2336233.7072237.88\n",
      "270.5248197.923272.0928104.6176124.1008200.28215.489688.3792\n",
      "233.5008249.2512249.9712250.176\n"
     ]
    }
   ],
   "source": []
  },
  {
   "cell_type": "code",
   "execution_count": null,
   "metadata": {},
   "outputs": [],
   "source": []
  }
 ],
 "metadata": {
  "kernelspec": {
   "display_name": "Python 2",
   "language": "python",
   "name": "python2"
  },
  "language_info": {
   "codemirror_mode": {
    "name": "ipython",
    "version": 2
   },
   "file_extension": ".py",
   "mimetype": "text/x-python",
   "name": "python",
   "nbconvert_exporter": "python",
   "pygments_lexer": "ipython2",
   "version": "2.7.17"
  }
 },
 "nbformat": 4,
 "nbformat_minor": 2
}
