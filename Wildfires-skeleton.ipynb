{
 "cells": [
  {
   "cell_type": "code",
   "execution_count": 19,
   "metadata": {
    "ExecuteTime": {
     "end_time": "2020-05-20T06:59:27.571551Z",
     "start_time": "2020-05-20T06:59:27.565614Z"
    }
   },
   "outputs": [],
   "source": [
    "dataversion = '0'\n",
    "pathToData = 'data/aug_data_'+dataversion+\"/\""
   ]
  },
  {
   "cell_type": "code",
   "execution_count": 20,
   "metadata": {
    "ExecuteTime": {
     "end_time": "2020-05-20T06:59:28.070390Z",
     "start_time": "2020-05-20T06:59:28.064402Z"
    }
   },
   "outputs": [],
   "source": [
    "labelDictionary={\n",
    "    0: \"datetime\",\n",
    "    1: \"landCover\",\n",
    "    2: \"lat\",\n",
    "    3: \"longit\",\n",
    "    4: \"met0\",\n",
    "    5: \"met1\",\n",
    "    6: \"observed\",\n",
    "    7: \"target\"\n",
    "}\n",
    "\n",
    "lengthDictionary={\n",
    "    0:1,\n",
    "    1:17,\n",
    "    2:1,\n",
    "    3:1,\n",
    "    4:5,\n",
    "    5:5,\n",
    "    6:5,\n",
    "    7:1\n",
    "}"
   ]
  },
  {
   "cell_type": "code",
   "execution_count": null,
   "metadata": {
    "ExecuteTime": {
     "start_time": "2020-05-20T06:59:29.379Z"
    }
   },
   "outputs": [],
   "source": [
    "def getLines(fileName):\n",
    "    return np.loadtxt(pathToData+ fileName, delimiter=',')\n",
    "\n",
    "def getData(pathToData, lengthDictionary, labelDictionary):\n",
    "    dataDictionary = {}\n",
    "    for key in labelDictionary:\n",
    "        dataDictionary[key]= getLines(labelDictionary[key]+\".csv\")\n",
    "    Data=[]\n",
    "    totalLength = len(dataDictionary[0])\n",
    "    for i in range(totalLength):\n",
    "        Data.append([])\n",
    "        for key,value in dataDictionary.items():\n",
    "            Data[i].append(\\\n",
    "                np.reshape(\\\n",
    "                dataDictionary[key][i*lengthDictionary[key]:(i+1)*lengthDictionary[key]],(1,-1)\\\n",
    "            )\\\n",
    "            )\n",
    "    return Data\n",
    "\n",
    "Data = getData(pathToData,lengthDictionary=lengthDictionary, labelDictionary=labelDictionary)\n",
    "                            "
   ]
  },
  {
   "cell_type": "code",
   "execution_count": null,
   "metadata": {},
   "outputs": [],
   "source": []
  }
 ],
 "metadata": {
  "kernelspec": {
   "display_name": "Python 3",
   "language": "python",
   "name": "python3"
  },
  "language_info": {
   "codemirror_mode": {
    "name": "ipython",
    "version": 3
   },
   "file_extension": ".py",
   "mimetype": "text/x-python",
   "name": "python",
   "nbconvert_exporter": "python",
   "pygments_lexer": "ipython3",
   "version": "3.7.3"
  },
  "varInspector": {
   "cols": {
    "lenName": 16,
    "lenType": 16,
    "lenVar": 40
   },
   "kernels_config": {
    "python": {
     "delete_cmd_postfix": "",
     "delete_cmd_prefix": "del ",
     "library": "var_list.py",
     "varRefreshCmd": "print(var_dic_list())"
    },
    "r": {
     "delete_cmd_postfix": ") ",
     "delete_cmd_prefix": "rm(",
     "library": "var_list.r",
     "varRefreshCmd": "cat(var_dic_list()) "
    }
   },
   "types_to_exclude": [
    "module",
    "function",
    "builtin_function_or_method",
    "instance",
    "_Feature"
   ],
   "window_display": false
  }
 },
 "nbformat": 4,
 "nbformat_minor": 4
}
